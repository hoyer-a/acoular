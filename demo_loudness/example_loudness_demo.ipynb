{
 "cells": [
  {
   "cell_type": "markdown",
   "metadata": {},
   "source": [
    "# DEMO\n",
    "***\n",
    "\n",
    "\n",
    "Ziel war es, die Lautheitheitsberechnung nach Zwicker (Quelle) in die Software Acoular einzubinden. Zusätzlich wurde zur Visualisierung und besseren Zugänglichkeit der Daten die Möglichkeit eines Lautheiteigenen Plots geschaffen. Diese ist speziell auf Messwerte aus Mikrofonarrays ausgelegt.<br><br>\n",
    "Dieses Notebook beinhaltet:\n",
    "- Aufbau der neuen Klassen und deren Verordnung in acoular\n",
    "- Beispiel zur Stationären Lautheit\n",
    "- Beispiel zur Zeitvarianten Lautheit\n",
    "- Beispiel zur Anwendung im Beamform Workflow"
   ]
  },
  {
   "cell_type": "markdown",
   "metadata": {},
   "source": [
    "***\n",
    "## Implementierung einer Klasse zur Berechnung der Lautheit in Acoular\n",
    "Aufbau der Klassen `_Loudness` `LoudnessStationary` `LoudnessTimevariant` `_PlotclassST` `_PlotclassTV` `PointBrowser`\n",
    "\n",
    "\n"
   ]
  },
  {
   "cell_type": "markdown",
   "metadata": {},
   "source": [
    "<div class=\"alert alert-block alert-info\">\n",
    "<b>Hinweis:</b> Für die Berechnung der Lautheit wird das Modul <a href = https://mosqito.readthedocs.io/en/latest/index.html> MOSQITO </a> verwendet. Dieses ist in der Environment zu installieren! <br>\n",
    "<code>pip install mosqito</code>\n",
    "\n",
    "</div>"
   ]
  },
  {
   "cell_type": "code",
   "execution_count": 1,
   "metadata": {},
   "outputs": [
    {
     "name": "stderr",
     "output_type": "stream",
     "text": [
      "/Users/sebastianlis/Documents/TU/9. Semester/Python : Akkustik/acoular-1/acoular/h5files.py:5: UserWarning: We detected that Numpy is already loaded and uses OpenBLAS. Because this conflicts with Numba parallel execution, we disable parallel execution for now and processing might be slower. To speed up, either import Numpy after Acoular or set environment variable OPENBLAS_NUM_THREADS=1 before start of the program.\n",
      "  from .configuration import config\n"
     ]
    }
   ],
   "source": [
    "import os\n",
    "\n",
    "orgpath = os.getcwd()\n",
    "os.chdir(os.path.split(orgpath)[0])\n",
    "\n",
    "from acoular import (\n",
    "    BeamformerTime,\n",
    "    Environment,\n",
    "    LoudnessStationary,\n",
    "    LoudnessTimevariant,\n",
    "    MaskedTimeSamples,\n",
    "    MicGeom,\n",
    "    RectGrid,\n",
    "    SteeringVector,\n",
    "    TimeInOut,\n",
    "    TimeSamples\n",
    ")\n",
    "\n",
    "os.chdir(orgpath)\n",
    "\n",
    "#module zur Darstellung der Beamformingergebnisse\n",
    "import matplotlib.pyplot as plt\n",
    "from pylab import imshow, show\n",
    "import numpy as np\n",
    "\n",
    "#zur Anwendung der interaktiven Fenster muss ein passendes backend verwendet werden\n",
    "%matplotlib widget"
   ]
  },
  {
   "cell_type": "markdown",
   "metadata": {},
   "source": [
    "***\n",
    "## Stationäre Lautheitsberechnung\n",
    "Zur Demonstration wird als stationäres Geräusch das \"Weiße Rauschen\" aus drei Quellen betrachtet. Vergleiche dazu die `acoular_demo.py`.\n",
    "Als Vorbereitung zur Lautheitsberechnung müssen aus den Messdaten und den Mikrofonkoordinaten für acoular nutzbare Objekte Instanziert werden. Wärend das `TimeSamples` Objekt obligatorisch für die Berechnung ist, werden die Mikrofonkoordinaten nur im Falle der graphischen Auswertung benötigt."
   ]
  },
  {
   "cell_type": "code",
   "execution_count": null,
   "metadata": {},
   "outputs": [],
   "source": [
    "datafile = os.path.join(os.getcwd(),'data','three_sources.h5')\n",
    "micgeofile = os.path.join(os.getcwd(),'data','array_64.xml')\n",
    "\n",
    "mg = MicGeom(from_file = micgeofile)\n",
    "ts = MaskedTimeSamples(name = datafile)"
   ]
  },
  {
   "cell_type": "markdown",
   "metadata": {},
   "source": [
    "Die Lautheit stationärer Geräusche wird mit der Instanzierung der Klasse `LoudnessStationary` berechnet. Dazu muss das TimeSamples Objekt als `source` übergeben werden. Da in den Loudness Klassen bereits Plotfunktionen enthalten sind, lässt sich durch `show` das Ergebnis graphisch darstellen. Zur korrekten Darstellung muss `show` das MicGeom Objekt, welches die Mikrofonanordnung enthält, übergeben werden."
   ]
  },
  {
   "cell_type": "code",
   "execution_count": null,
   "metadata": {},
   "outputs": [],
   "source": [
    "ld_st = LoudnessStationary(source=ts)\n",
    "ld_st.visualize(mg)"
   ]
  },
  {
   "cell_type": "markdown",
   "metadata": {},
   "source": [
    "<div class=\"alert alert-block alert-info\">\n",
    "<b>Info:</b> Es erscheint der Hinweis, dass das Signal auf 48 kHz resampled wurde. Dies liegt an dem verwendeten Algorithmus, der 48 kHz vorschreibt.\n",
    "</div>"
   ]
  },
  {
   "cell_type": "markdown",
   "metadata": {},
   "source": [
    "Es sollte sich folgendes Fenster geöffnet haben:\n",
    "<div style=\"text-align: center;\">\n",
    "  <img src=\"data\\example_PlotStationary.png\" alt=\"example_PlotStationary\" width=\"500\">\n",
    "</div>\n",
    "\n",
    "<br>\n",
    "\n",
    "Der Plot ist interaktiv gestaltet. Durch Auswahl der Mikrofonpunkte lässt sich die \n",
    "Verteilung der spezifischen Lautheit des zugehörigen Kanals anzeigen. Die Kanäle\n",
    "lassen sich außerdem mit **n** (next) und **p** (previous) durchschalten.<br>\n",
    "Die Farbe der Mikrofonpunkte indiziert die Lautheit des gemessenen Signals."
   ]
  },
  {
   "cell_type": "markdown",
   "metadata": {},
   "source": [
    "***\n",
    "# Zeitvariante Lautheitsberechnung\n",
    "Zur Demonstration der zeitvarianten Lautheit wird ein neues Signal eingelesen. Bei der `example_data.h5` handelt es sich um eine Windkanalmessung eines Tragflügels. Auch hier ist die Verwendung des `MicGeom` Objekts nur für die Visualisierung nötig."
   ]
  },
  {
   "cell_type": "code",
   "execution_count": null,
   "metadata": {},
   "outputs": [],
   "source": [
    "datafile = os.path.join(os.getcwd(),'data','example_data.h5')\n",
    "micgeofile = os.path.join(os.getcwd(),'data','array_56.xml')\n",
    "\n",
    "mg = MicGeom(from_file = micgeofile)\n",
    "ts = TimeSamples(name = datafile)\n",
    "\n",
    "ld_tv = LoudnessTimevariant(source = ts)\n",
    "ld_tv.visualize(mg)"
   ]
  },
  {
   "cell_type": "markdown",
   "metadata": {},
   "source": [
    "Es sollte sich folgendes Fenster geöffnet haben:\n",
    "<div style=\"text-align: center;\">\n",
    "  <img src=\"data\\example_PlotVariant.png\" alt=\"example_PlotVariant\" width=\"500\">\n",
    "</div>\n",
    "Der Plot besteht aus drei Bereichen. Oben links steht wie bereits aus der Stationären Lautheit bekannt die Mikrofonverteilung. Die Interaktivität ist wieder gegeben. Diesmal trifft die Farbindizierung eine Aussage über den Lautheitsdurchschnitt über die Zeit. Oben rechts wird für den angewählten Kanal der zeitliche Verlauf der Lautheit dargestellt. Zuletzt trifft das unten stehende Spektogramm Aussagen über die spezifischen Lautheitswerte des gewählten Kanals."
   ]
  },
  {
   "cell_type": "markdown",
   "metadata": {},
   "source": [
    "***\n",
    "# Anwendung in Acoular Workflow\n",
    "\n",
    "Dieses Beispiel steht exemplarisch für die mögliche Verwendung der Lautheitberechnung im Kontext des Beamformings. Beamforming hat das Ziel aus an verschiedenen Orten gemessenen Daten die Quelle eines Geräuschs zu rekonstruieren. Sofern die dabei Beamformer verwendet werden, die nicht in der Frequenz- sondern der Zeitdomäne arbeiten, lässt sich mit diesen Zeitsignalen die Lautheit an einem beliebigen Ort bestimmen."
   ]
  },
  {
   "cell_type": "markdown",
   "metadata": {},
   "source": [
    "Diese Beispiel orientiert sich stark am `example_airfoil_in_open_jet_time_beamforming.py`. Zunächst werden wie bereits bekannt die Daten eingelesen. Im Fall des Beamformings ist das `MicGeom` Objekt nicht mehr optinal. Außerdem wird mit `RectGrid` ein Raster erzeugt, an dem sich später die Kanäle mit den Ortseigenen Zeitsignalen orientieren. `Environment` legt die Schallgeschwindigkeit fest und wird benötigt, um die Schallrekonstruktion korrekt auszuführen. `SteeringVector` verknüpft die Mikrofonanordnung, das Raster sowie die Schallgeschwindigkeit und bildet zusammen mit dem `MaskedTimeSample` Objekt den Input für den Beamformer. `MaskedTimeSample` gibt dem Anwender die Möglichkeit die eingelesenen Daten selektiert weiterzuleiten. Beispielsweise lässt sich der Start- und Endpunkt wählen. Außerdem können einzelne Mikrofonkanäle aus der Berechnung ausgeschlossen werden. Im vorliegenden Fall soll wieder die Stationäre Lautheit berechnet werden. Dazu ist es Sinnvoll den Start zu verschieben, da wie in der zeitvarianten Berechnung der Mikrofonkanäle ersichtlich wurde, dass die Lärmquelle erst ab 0,2 s ein annähernd stationäres Verhalten zeigt."
   ]
  },
  {
   "cell_type": "code",
<<<<<<< HEAD
   "execution_count": null,
=======
   "execution_count": 3,
>>>>>>> 723aaa9 (minor fix in loudness.py / changed data read to compatability with all systems)
   "metadata": {},
   "outputs": [],
   "source": [
    "datafile = os.path.join(os.getcwd(),'data','example_data.h5')\n",
    "micgeofile = os.path.join(os.getcwd(),'data','array_56.xml')\n",
    "\n",
    "mg = MicGeom(from_file=micgeofile)\n",
    "ts = MaskedTimeSamples(name=datafile)\n",
    "\n",
    "#ts.start = 0.2*48000\n",
    "\n",
    "rg = RectGrid(x_min=-0.6, x_max=0.0, y_min=-0.3, y_max=0.3, z=0.68, increment=0.05)\n",
    "env = Environment(c=346.04)\n",
    "st = SteeringVector(grid=rg, mics=mg, env=env)\n",
    "\n",
    "bt = BeamformerTime(source=ts, steer=st)\n",
    "\n"
   ]
  },
  {
   "cell_type": "code",
   "execution_count": 4,
   "metadata": {},
   "outputs": [
    {
     "name": "stdout",
     "output_type": "stream",
     "text": [
      "source changed\n",
      "Calculating stationary loudness... depending on the file size, this might take a while\n",
      "signal resampled to 48 kHz\n"
     ]
    },
    {
     "name": "stderr",
     "output_type": "stream",
     "text": [
      "/opt/anaconda3/envs/acoular/lib/python3.12/site-packages/traitlets/traitlets.py:1385: DeprecationWarning: Passing unrecognized arguments to super(Toolbar).__init__().\n",
      "NavigationToolbar2WebAgg.__init__() missing 1 required positional argument: 'canvas'\n",
      "This is deprecated in traitlets 4.2.This error will be raised in a future release of traitlets.\n",
      "  warn(\n"
     ]
    },
    {
     "data": {
      "application/vnd.jupyter.widget-view+json": {
       "model_id": "f663c424f395403c9c10c681c26a28b1",
       "version_major": 2,
       "version_minor": 0
      },
      "image/png": "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",
      "text/html": [
       "\n",
       "            <div style=\"display: inline-block;\">\n",
       "                <div class=\"jupyter-widgets widget-label\" style=\"text-align: center;\">\n",
       "                    Figure\n",
       "                </div>\n",
       "                <img src='data:image/png;base64,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' width=640.0/>\n",
       "            </div>\n",
       "        "
      ],
      "text/plain": [
       "Canvas(toolbar=Toolbar(toolitems=[('Home', 'Reset original view', 'home', 'home'), ('Back', 'Back to previous …"
      ]
     },
     "metadata": {},
     "output_type": "display_data"
    }
   ],
   "source": [
    "ld_bt = LoudnessStationary(source=bt, field_type = \"diffuse\")\n",
    "\n",
    "oal = ld_bt.overall_loudness\n",
    "oal = oal.reshape(rg.shape)\n",
    "\n",
    "plt.figure()\n",
    "plt.imshow(oal, vmax=np.max(oal), origin='lower', interpolation='nearest', extent=rg.extend())\n",
    "plt.show()"
   ]
  },
  {
   "cell_type": "markdown",
   "metadata": {},
   "source": [
    "Mit Masked Timesample Zeigen, dass für Beliebigen Punkt/Channel auch Timevariant ausgegeben werden kann\n",
    "Außerdem: Sample Wahl, \n",
    "\n",
    "Vollständige beschriftung des graphen\n",
    "\n",
    "\n",
    "Defaultwert Free"
   ]
  },
  {
   "cell_type": "code",
   "execution_count": 5,
   "metadata": {},
   "outputs": [],
   "source": [
    "ld_tv_bt = LoudnessTimevariant(source =bt)"
   ]
  },
  {
   "cell_type": "markdown",
   "metadata": {},
   "source": [
    "<div style=\"text-align: center;\">\n",
    "  <img src=\"data\\example_PlotBeam.png\" alt=\"example_PlotBeam\" width=\"400\">\n",
    "</div>"
   ]
  },
  {
   "cell_type": "markdown",
   "metadata": {},
   "source": [
    "# Markdown style options\n",
    "\n",
    "> Text that will be indented when the Markdown is rendered.\n",
    "\n",
    "- Main bullet point\n",
    "     - Sub bullet point\n",
    "\n",
    "`string`\n",
    "\n",
    "\n",
    "# for titles\n",
    "## for major headings\n",
    "### for subheadings\n",
    "#### for 4th level subheadings\n",
    "\n",
    "\n",
    "Bold text: __string__ or **string**\n",
    "Italic text: _string_ or *string*\n",
    "***\n",
    "<div class=\"alert alert-block alert-info\">\n",
    "<b>Tip:</b> Use blue boxes (alert-info) for tips and notes. \n",
    "If it’s a note, you don’t have to include the word “Note”.\n",
    "</div>\n",
    "<div class=\"alert alert-block alert-warning\">\n",
    "<b>Example:</b> Use yellow boxes for examples that are not \n",
    "inside code cells, or use for mathematical formulas if needed.\n",
    "</div>\n",
    "<div class=\"alert alert-block alert-success\">\n",
    "<b>Up to you:</b> Use green boxes sparingly, and only for some specific \n",
    "purpose that the other boxes can't cover. For example, if you have a lot \n",
    "of related content to link to, maybe you decide to use green boxes for \n",
    "related links from each section of a notebook.\n",
    "</div>\n",
    "<div class=\"alert alert-block alert-danger\">\n",
    "<b>Just don't:</b> In general, avoid the red boxes. These should only be\n",
    "used for actions that might cause data loss or another major issue.\n",
    "</div>"
   ]
  },
  {
   "cell_type": "markdown",
   "metadata": {},
   "source": []
  }
 ],
 "metadata": {
  "kernelspec": {
   "display_name": "acoular",
   "language": "python",
   "name": "python3"
  },
  "language_info": {
   "codemirror_mode": {
    "name": "ipython",
    "version": 3
   },
   "file_extension": ".py",
   "mimetype": "text/x-python",
   "name": "python",
   "nbconvert_exporter": "python",
   "pygments_lexer": "ipython3",
   "version": "3.12.1"
  }
 },
 "nbformat": 4,
 "nbformat_minor": 2
}
