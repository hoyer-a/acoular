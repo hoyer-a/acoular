{
 "cells": [
  {
   "cell_type": "markdown",
   "metadata": {},
   "source": [
    "# DEMO\n",
    "***\n",
    "\n",
    "\n",
    "Ziel war es, die Lautheitheitsberechnung nach Zwicker (Quelle) in die Software Acoular einzubinden. Zusätzlich wurde zur Visualisierung und besseren Zugänglichkeit der Daten die Möglichkeit eines Lautheiteigenen Plots geschaffen. Diese ist speziell auf Messwerte aus Mikrofonarrays ausgelegt.<br><br>\n",
    "Dieses Notebook beinhaltet:\n",
    "- Aufbau der neuen Klassen und deren Verordnung in acoular\n",
    "- Beispiel zur Stationären Lautheit\n",
    "- Beispiel zur Zeitvarianten Lautheit\n",
    "- Beispiel zur Anwendung im Beamform Workflow"
   ]
  },
  {
   "cell_type": "markdown",
   "metadata": {},
   "source": [
    "***\n",
    "## Implementierung einer Klasse zur Berechnung der Lautheit in Acoular\n",
    "Aufbau der Klassen `_Loudness` `LoudnessStationary` `LoudnessTimevariant` `_PlotclassST` `_PlotclassTV` `PointBrowser`\n",
    "\n",
    "\n"
   ]
  },
  {
   "cell_type": "markdown",
   "metadata": {},
   "source": [
    "<div class=\"alert alert-block alert-info\">\n",
    "<b>Hinweis:</b> Für die Berechnung der Lautheit wird das Modul MOSQITO verwendet. Dieses ist in der Environment zu installieren! <br>\n",
    "<code>pip install mosqito</code><br>\n",
    "\n",
    "</div>"
   ]
  },
  {
   "cell_type": "code",
   "execution_count": 1,
   "metadata": {},
   "outputs": [
    {
     "name": "stderr",
     "output_type": "stream",
     "text": [
      "d:\\Python\\Projekt_acoular\\acoular\\acoular\\h5files.py:5: UserWarning: We detected that Numpy is already loaded and uses OpenBLAS. Because this conflicts with Numba parallel execution, we disable parallel execution for now and processing might be slower. To speed up, either import Numpy after Acoular or set environment variable OPENBLAS_NUM_THREADS=1 before start of the program.\n",
      "  from .configuration import config\n"
     ]
    }
   ],
   "source": [
    "import os\n",
    "\n",
    "orgpath = os.getcwd()\n",
    "os.chdir(os.path.split(orgpath)[0])\n",
    "\n",
    "from acoular import (\n",
    "    BeamformerTime,\n",
    "    Environment,\n",
    "    LoudnessStationary,\n",
    "    LoudnessTimevariant,\n",
    "    MaskedTimeSamples,\n",
    "    MicGeom,\n",
    "    RectGrid,\n",
    "    SteeringVector,\n",
    "    TimeSamples\n",
    ")\n",
    "\n",
    "os.chdir(orgpath)\n",
    "\n",
    "#module zur Darstellung der Beamformingergebnisse\n",
    "from pylab import imshow, show\n",
    "import numpy as np\n",
    "\n",
    "#zur Anwendung der interaktiven Fenster muss ein passendes backend verwendet werden\n",
    "%matplotlib qt5"
   ]
  },
  {
   "cell_type": "markdown",
   "metadata": {},
   "source": [
    "***\n",
    "## Stationäre Lautheitsberechnung\n",
    "Zur Demonstration wird als stationäres Geräusch das \"Weiße Rauschen\" aus drei Quellen betrachtet. Vergleiche dazu die `acoular_demo.py`.\n",
    "Als Vorbereitung zur Lautheitsberechnung müssen aus den Messdaten und den Mikrofonkoordinaten für acoular nutzbare Objekte Instanziert werden. Wärend das `TimeSamples` Objekt obligatorisch für die Berechnung ist, werden die Mikrofonkoordinaten nur im Falle der graphischen Auswertung benötigt."
   ]
  },
  {
   "cell_type": "code",
   "execution_count": 7,
   "metadata": {},
   "outputs": [],
   "source": [
    "datafile = os.path.join(os.getcwd(),'data\\\\three_sources.h5')\n",
    "micgeofile = os.path.join(os.getcwd(),'data\\\\array_64.xml')\n",
    "\n",
    "mg = MicGeom(from_file = micgeofile)\n",
    "ts = MaskedTimeSamples(name = datafile)"
   ]
  },
  {
   "cell_type": "markdown",
   "metadata": {},
   "source": [
    "Die Lautheit stationärer Geräusche wird mit der Instanzierung der Klasse `LoudnessStationary` berechnet. Dazu muss das TimeSamples Objekt als `source` übergeben werden. Da in den Loudness Klassen bereits Plotfunktionen enthalten sind, lässt sich durch `show` das Ergebnis graphisch darstellen. Zur korrekten Darstellung muss `show` das MicGeom Objekt, welches die Mikrofonanordnung enthält, übergeben werden."
   ]
  },
  {
   "cell_type": "code",
   "execution_count": 6,
   "metadata": {},
   "outputs": [
    {
     "name": "stdout",
     "output_type": "stream",
     "text": [
      "source changed\n",
      "Calculating stationary loudness... depending on the file size, this might take a while\n",
      "signal resampled to 48 kHz\n"
     ]
    }
   ],
   "source": [
    "ld_st = LoudnessStationary(source=ts)\n",
    "ld_st.show(mg)"
   ]
  },
  {
   "cell_type": "markdown",
   "metadata": {},
   "source": [
    "<div class=\"alert alert-block alert-info\">\n",
    "<b>Info:</b> Es erscheint der Hinweis, dass das Signal auf 48 kHz resampled wurde. Dies liegt an dem verwendeten Algorithmus, der 48 kHz vorschreibt.\n",
    "</div>"
   ]
  },
  {
   "cell_type": "markdown",
   "metadata": {},
   "source": [
    "Es sollte sich folgendes Fenster geöffnet haben:\n",
    "<div style=\"text-align: center;\">\n",
    "  <img src=\"data\\example_PlotStationary.png\" alt=\"example_PlotStationary\" width=\"800\">\n",
    "</div>\n",
    "\n",
    "<br>\n",
    "\n",
    "Der Plot ist interaktiv gestaltet. Durch Auswahl der Mikrofonpunkte lässt sich die \n",
    "Verteilung der spezifischen Lautheit des zugehörigen Kanals anzeigen. Die Kanäle\n",
    "lassen sich außerdem mit **n** (next) und **p** (previous) durchschalten.<br>\n",
    "Die Farbe der Mikrofonpunkte indiziert die Lautheit des gemessenen Signals."
   ]
  },
  {
   "cell_type": "markdown",
   "metadata": {},
   "source": [
    "***\n",
    "# Zeitvariante Lautheitsberechnung\n",
    "Zur Demonstration der zeitvarianten Lautheit wird ein neues Signal eingelesen. Bei der `example_data.h5` handelt es sich um eine Windkanalmessung eines Tragflügels. Auch hier ist die Verwendung des `MicGeom` Objekts nur für die Visualisierung nötig."
   ]
  },
  {
   "cell_type": "code",
   "execution_count": 2,
   "metadata": {},
   "outputs": [
    {
     "name": "stdout",
     "output_type": "stream",
     "text": [
      "source changed\n",
      "Calculating timevariant loudness... depending on the file size, this might take a while\n",
      "signal resampled to 48 kHz\n"
     ]
    }
   ],
   "source": [
    "datafile = os.path.join(os.getcwd(),'data\\\\example_data.h5')\n",
    "micgeofile = os.path.join(os.getcwd(),'data\\\\array_56.xml')\n",
    "\n",
    "mg = MicGeom(from_file = micgeofile)\n",
    "ts = TimeSamples(name = datafile)\n",
    "\n",
    "ld_tv = LoudnessTimevariant(source = ts)\n",
    "ld_tv.show(mg)"
   ]
  },
  {
   "cell_type": "markdown",
   "metadata": {},
   "source": [
    "Es sollte sich folgendes Fenster geöffnet haben:\n",
    "<div style=\"text-align: center;\">\n",
    "  <img src=\"data\\example_PlotVariant.png\" alt=\"example_PlotVariant\" width=\"500\">\n",
    "</div>\n",
    "Der Plot besteht aus drei Bereichen. Oben links steht wie bereits aus der Stationären Lautheit bekannt die Mikrofonverteilung. Die Interaktivität ist wieder gegeben. Diesmal trifft die Farbindizierung eine Aussage über den Lautheitsdurchschnitt über die Zeit. Oben rechts wird für den angewählten Kanal der zeitliche Verlauf der Lautheit dargestellt. Zuletzt trifft das unten stehende Spektogramm Aussagen über die spezifischen Lautheitswerte des gewählten Kanals."
   ]
  },
  {
   "cell_type": "markdown",
   "metadata": {},
   "source": [
    "***\n",
    "# Anwendung in Acoular Workflow\n",
    "\n",
    "Dieses Beispiel steht exemplarisch für die mögliche Verwendung der Lautheitberechnung im Kontext des Beamformings. Beamforming hat das Ziel aus an verschiedenen Orten gemessenen Daten die Quelle eines Geräuschs zu rekonstruieren. Sofern die dabei Beamformer verwendet werden, die nicht in der Frequenz- sondern der Zeitdomäne arbeiten, lässt sich mit diesen Zeitsignalen die Lautheit an einem beliebigen Ort bestimmen."
   ]
  },
  {
   "cell_type": "markdown",
   "metadata": {},
   "source": [
    "Diese Beispiel orientiert sich stark am `example_airfoil_in_open_jet_time_beamforming.py`. Zunächst werden wie bereits bekannt die Daten eingelesen. Im Fall des Beamformings ist das `MicGeom` Objekt nicht mehr optinal. Außerdem wird mit `RectGrid` ein Raster erzeugt, an dem sich später die Kanäle mit den Ortseigenen Zeitsignalen orientieren. `Environment` legt die Schallgeschwindigkeit fest und wird benötigt, um die Schallrekonstruktion korrekt auszuführen. `SteeringVector` verknüpft die Mikrofonanordnung, das Raster sowie die Schallgeschwindigkeit und bildet zusammen mit dem `MaskedTimeSample` Objekt den Input für den Beamformer. `MaskedTimeSample` gibt dem Anwender die Möglichkeit die eingelesenen Daten selektiert weiterzuleiten. Beispielsweise lässt sich der Start- und Endpunkt wählen. Außerdem können einzelne Mikrofonkanäle aus der Berechnung ausgeschlossen werden. Im vorliegenden Fall soll wieder die Stationäre Lautheit berechnet werden. Dazu ist es Sinnvoll den Start zu verschieben, da wie in der zeitvarianten Berechnung der Mikrofone ersichtlich wurde, dass die Lärmquelle erst ab 0,2 s ein annähernd stationäres Verhalten zeigt."
   ]
  },
  {
   "cell_type": "code",
   "execution_count": 6,
   "metadata": {},
   "outputs": [
    {
     "name": "stdout",
     "output_type": "stream",
     "text": [
      "source changed\n",
      "Calculating stationary loudness... depending on the file size, this might take a while\n",
      "signal resampled to 48 kHz\n"
     ]
    }
   ],
   "source": [
    "micgeofile = r'data\\array_56.xml'\n",
    "datafile = r'data\\example_data.h5'\n",
    "\n",
    "mg = MicGeom(from_file=micgeofile)\n",
    "ts = MaskedTimeSamples(name=datafile)\n",
    "\n",
    "ts.start = 0.2*48000\n",
    "\n",
    "rg = RectGrid(x_min=-0.6, x_max=0.0, y_min=-0.3, y_max=0.3, z=0.68, increment=0.05)\n",
    "env = Environment(c=346.04)\n",
    "st = SteeringVector(grid=rg, mics=mg, env=env)\n",
    "\n",
    "bt = BeamformerTime(source=ts, steer=st)\n",
    "\n",
    "ld_bt = LoudnessStationary(source=bt)\n",
    "\n",
    "oal = ld_bt.overall_loudness\n",
    "oal = oal.reshape(rg.shape)\n",
    "\n",
    "from pylab import imshow, show\n",
    "import numpy as np\n",
    "\n",
    "imshow(oal, vmax=np.max(oal), origin='lower', interpolation='nearest', extent=rg.extend())\n",
    "show()"
   ]
  },
  {
   "cell_type": "markdown",
   "metadata": {},
   "source": [
    "Mit Masked Timesample Zeigen, dass für Beliebigen Punkt/Channel auch Timevariant ausgegeben werden kann\n",
    "Außerdem: Sample Wahl, \n",
    "\n",
    "Vollständige beschriftung des graphen\n",
    "\n",
    "\n",
    "Defaultwert Free"
   ]
  },
  {
   "cell_type": "markdown",
   "metadata": {},
   "source": [
    "<div style=\"text-align: center;\">\n",
    "  <img src=\"data\\example_PlotBeam.png\" alt=\"example_PlotBeam\" width=\"400\">\n",
    "</div>"
   ]
  },
  {
   "cell_type": "markdown",
   "metadata": {},
   "source": [
    "# Markdown style options\n",
    "\n",
    "> Text that will be indented when the Markdown is rendered.\n",
    "\n",
    "- Main bullet point\n",
    "     - Sub bullet point\n",
    "\n",
    "`string`\n",
    "\n",
    "\n",
    "# for titles\n",
    "## for major headings\n",
    "### for subheadings\n",
    "#### for 4th level subheadings\n",
    "\n",
    "\n",
    "Bold text: __string__ or **string**\n",
    "Italic text: _string_ or *string*\n",
    "***\n",
    "<div class=\"alert alert-block alert-info\">\n",
    "<b>Tip:</b> Use blue boxes (alert-info) for tips and notes. \n",
    "If it’s a note, you don’t have to include the word “Note”.\n",
    "</div>\n",
    "<div class=\"alert alert-block alert-warning\">\n",
    "<b>Example:</b> Use yellow boxes for examples that are not \n",
    "inside code cells, or use for mathematical formulas if needed.\n",
    "</div>\n",
    "<div class=\"alert alert-block alert-success\">\n",
    "<b>Up to you:</b> Use green boxes sparingly, and only for some specific \n",
    "purpose that the other boxes can't cover. For example, if you have a lot \n",
    "of related content to link to, maybe you decide to use green boxes for \n",
    "related links from each section of a notebook.\n",
    "</div>\n",
    "<div class=\"alert alert-block alert-danger\">\n",
    "<b>Just don't:</b> In general, avoid the red boxes. These should only be\n",
    "used for actions that might cause data loss or another major issue.\n",
    "</div>"
   ]
  },
  {
   "cell_type": "markdown",
   "metadata": {},
   "source": []
  }
 ],
 "metadata": {
  "kernelspec": {
   "display_name": "acoular",
   "language": "python",
   "name": "python3"
  },
  "language_info": {
   "codemirror_mode": {
    "name": "ipython",
    "version": 3
   },
   "file_extension": ".py",
   "mimetype": "text/x-python",
   "name": "python",
   "nbconvert_exporter": "python",
   "pygments_lexer": "ipython3",
   "version": "3.11.9"
  }
 },
 "nbformat": 4,
 "nbformat_minor": 2
}
