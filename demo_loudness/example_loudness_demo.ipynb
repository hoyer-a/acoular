{
 "cells": [
  {
   "cell_type": "markdown",
   "metadata": {},
   "source": [
    "# DEMO\n",
    "***\n",
    "## Implementierung einer Klasse zur Berechnung der Lautheit in Acoular\n",
    "\n",
    "Aufgabenstellung BLIBLABLUB\n",
    "\n",
    "Aufbau der Klassen `_Loudness` `LoudnessStationary` `LoudnessTimevariant` `_PlotclassST` `_PlotclassTV` `PointBrowser`\n",
    "\n",
    "<div class=\"alert alert-block alert-info\">\n",
    "<b>Hinweis:</b> Für die Berechnung der Lautheit wird das Modul MOSQITO verwendet. Dieses ist in der Environment zu installieren!\n",
    "</div>\n"
   ]
  },
  {
   "cell_type": "code",
   "execution_count": 1,
   "metadata": {},
   "outputs": [],
   "source": [
    "from acoular import (\n",
    "    BeamformerTime,\n",
    "    Environment,\n",
    "    MaskedTimeSamples,\n",
    "    MicGeom,\n",
    "    RectGrid,\n",
    "    SteeringVector,\n",
    "    TimeSamples\n",
    ")\n",
    "\n",
    "#loudness ist noch nicht im Masterbranch von Acoular enthalten und wird hier gesondert importiert\n",
    "from loudness import LoudnessStationary, LoudnessTimevariant\n",
    "\n",
    "#module zur Darstellung der Beamformingergebnisse\n",
    "from pylab import imshow, show\n",
    "import numpy as np\n",
    "\n",
    "#zur Anwendung der interaktiven Fenster muss ein passendes backend verwendet werden\n",
    "%matplotlib qt5\n"
   ]
  },
  {
   "cell_type": "markdown",
   "metadata": {},
   "source": [
    "***\n",
    "## Stationäre Lautheitsberechnung\n",
    "Zur Demonstration wird als stationäres Geräusch das \"Weiße Rauschen\" aus drei Quellen betrachtet. Vergleiche dazu die `acoular_demo.py`.\n",
    "Als Vorbereitung zur Lautheitsberechnung müssen aus den Messdaten und den Mikrofonkoordinaten für acoular nutzbare Objekte Instanziert werden."
   ]
  },
  {
   "cell_type": "code",
   "execution_count": null,
   "metadata": {},
   "outputs": [],
   "source": [
    "h5savefile = r'data\\three_sources.h5'\n",
    "micgeofile = r'data\\array_64.xml'\n",
    "\n",
    "mg = MicGeom(from_file=micgeofile)\n",
    "ts = TimeSamples(name=h5savefile)"
   ]
  },
  {
   "cell_type": "markdown",
   "metadata": {},
   "source": [
    "\n",
    "\n",
    "Die Lautheit stationärer Geräusche wird mit der Instanzierung der Klasse `LoudnessStationary` berechnet. Dazu muss das TimeSamples Objekt als `source` übergeben werden. Da in den Loudness Klassen bereits Plotfunktionen enthalten sind, lässt sich durch `show` das Ergebnis graphisch darstellen. Zur korrekten Darstellung muss `show` das MicGeom Objekt, welches die Mikrofonanordnung enthält, übergeben werden."
   ]
  },
  {
   "cell_type": "code",
   "execution_count": null,
   "metadata": {},
   "outputs": [],
   "source": [
    "ld_st = LoudnessStationary(source=ts)\n",
    "ld_st.show(mg)"
   ]
  },
  {
   "cell_type": "markdown",
   "metadata": {},
   "source": [
    "<div class=\"alert alert-block alert-info\">\n",
    "<b>Info:</b> Es erscheint der Hinweis, dass das Signal auf 48 kHz resampled wurde. Dies liegt an dem verwendeten Algorithmus, der 48 kHz vorschreibt.\n",
    "</div>"
   ]
  },
  {
   "cell_type": "markdown",
   "metadata": {},
   "source": [
    "Es sollte sich folgendes Fenster geöffnet haben:\n",
    "<div style=\"text-align: center;\">\n",
    "  <img src=\"data\\example_PlotStationary.png\" alt=\"example_PlotStationary\" width=\"800\">\n",
    "</div>\n",
    "\n",
    "<br>\n",
    "\n",
    "Der Plot ist interaktiv gestaltet. Durch Auswahl der Mikrofonpunkte lässt sich die \n",
    "Verteilung der spezifischen Lautheit des zugehörigen Kanals anzeigen. Die Kanäle\n",
    "lassen sich außerdem mit **n** (next) und **p** (previous) durchschalten.<br>\n",
    "Die Farbe der Mikrofonpunkte indiziert die Lautheit des gemessenen Signals."
   ]
  },
  {
   "cell_type": "markdown",
   "metadata": {},
   "source": [
    "***\n",
    "# Loudness TimeVariant\n",
    "\n",
    "Anwendungsbeispiel mit zeitvariantem signal (airfoil -> hinführung zu Beamforming Beispiel)<br>\n",
    "Zeigen der Plots <br>\n",
    "Unterschiede im Plot aufzeigen"
   ]
  },
  {
   "cell_type": "code",
   "execution_count": 5,
   "metadata": {},
   "outputs": [
    {
     "name": "stdout",
     "output_type": "stream",
     "text": [
      "source changed\n",
      "Calculating timevariant loudness... depending on the file size, this might take a while\n",
      "signal resampled to 48 kHz\n",
      "24000 24000\n"
     ]
    }
   ],
   "source": [
    "datafile = r'data\\example_data.h5'\n",
    "micgeofile = r'data\\array_56.xml'\n",
    "\n",
    "mg = MicGeom(from_file=micgeofile)\n",
    "ts = TimeSamples(name = datafile)\n",
    "#tio = TimeInOut(source=ts)\n",
    "\n",
    "ld_tv = LoudnessTimevariant(source=ts)\n",
    "ld_tv.show(mg)\n"
   ]
  },
  {
   "cell_type": "markdown",
   "metadata": {},
   "source": [
    "Es sollte sich folgendes Fenster geöffnet haben:\n",
    "<div style=\"text-align: center;\">\n",
    "  <img src=\"data\\example_PlotVariant.png\" alt=\"example_PlotVariant\" width=\"500\">\n",
    "</div>"
   ]
  },
  {
   "cell_type": "markdown",
   "metadata": {},
   "source": [
    "# Anwendung in Acoular Workflow\n",
    "\n",
    "Kurzfassung des \"normalen\" Beamforming Workflows <br>\n",
    "Neuer Workflow mit einbinden der Loudness Stationary (aus anschaulichen Gründen)\n",
    "\n",
    "Mit Masked Timesample Zeigen, dass für Beliebigen Punkt/Channel auch Timevariant ausgegeben werden kann\n",
    "Außerdem: Sample Wahl, "
   ]
  },
  {
   "cell_type": "code",
   "execution_count": 2,
   "metadata": {},
   "outputs": [
    {
     "name": "stdout",
     "output_type": "stream",
     "text": [
      "source changed\n",
      "Calculating stationary loudness... depending on the file size, this might take a while\n",
      "signal resampled to 48 kHz\n"
     ]
    }
   ],
   "source": [
    "micgeofile = r'data\\array_56.xml'\n",
    "datafile = r'data\\example_data.h5'\n",
    "calibfile = r'data\\example_calib.xml'\n",
    "\n",
    "mg = MicGeom(from_file=micgeofile)\n",
    "ts = MaskedTimeSamples(name=datafile)\n",
    "\n",
    "rg = RectGrid(x_min=-0.6, x_max=0.0, y_min=-0.3, y_max=0.3, z=0.68, increment=0.05)\n",
    "env = Environment(c=346.04)\n",
    "st = SteeringVector(grid=rg, mics=mg, env=env)\n",
    "\n",
    "bt = BeamformerTime(source=ts, steer=st)\n",
    "\n",
    "ld_bt = LoudnessStationary(source=bt)\n",
    "\n",
    "oal = ld_bt.overall_loudness\n",
    "oal = oal.reshape(rg.shape)\n",
    "\n",
    "\n",
    "from pylab import imshow, show\n",
    "import numpy as np\n",
    "\n",
    "imshow(oal, vmax=np.max(oal), origin='lower', interpolation='nearest', extent=rg.extend())\n",
    "show()"
   ]
  },
  {
   "cell_type": "markdown",
   "metadata": {},
   "source": [
    "<div style=\"text-align: center;\">\n",
    "  <img src=\"data\\example_PlotBeam.png\" alt=\"example_PlotBeam\" width=\"400\">\n",
    "</div>"
   ]
  },
  {
   "cell_type": "markdown",
   "metadata": {},
   "source": [
    "# Markdown style options\n",
    "\n",
    "> Text that will be indented when the Markdown is rendered.\n",
    "\n",
    "- Main bullet point\n",
    "     - Sub bullet point\n",
    "\n",
    "`string`\n",
    "\n",
    "\n",
    "# for titles\n",
    "## for major headings\n",
    "### for subheadings\n",
    "#### for 4th level subheadings\n",
    "\n",
    "\n",
    "Bold text: __string__ or **string**\n",
    "Italic text: _string_ or *string*\n",
    "***\n",
    "<div class=\"alert alert-block alert-info\">\n",
    "<b>Tip:</b> Use blue boxes (alert-info) for tips and notes. \n",
    "If it’s a note, you don’t have to include the word “Note”.\n",
    "</div>\n",
    "<div class=\"alert alert-block alert-warning\">\n",
    "<b>Example:</b> Use yellow boxes for examples that are not \n",
    "inside code cells, or use for mathematical formulas if needed.\n",
    "</div>\n",
    "<div class=\"alert alert-block alert-success\">\n",
    "<b>Up to you:</b> Use green boxes sparingly, and only for some specific \n",
    "purpose that the other boxes can't cover. For example, if you have a lot \n",
    "of related content to link to, maybe you decide to use green boxes for \n",
    "related links from each section of a notebook.\n",
    "</div>\n",
    "<div class=\"alert alert-block alert-danger\">\n",
    "<b>Just don't:</b> In general, avoid the red boxes. These should only be\n",
    "used for actions that might cause data loss or another major issue.\n",
    "</div>"
   ]
  },
  {
   "cell_type": "markdown",
   "metadata": {},
   "source": []
  }
 ],
 "metadata": {
  "kernelspec": {
   "display_name": "acoular",
   "language": "python",
   "name": "python3"
  },
  "language_info": {
   "codemirror_mode": {
    "name": "ipython",
    "version": 3
   },
   "file_extension": ".py",
   "mimetype": "text/x-python",
   "name": "python",
   "nbconvert_exporter": "python",
   "pygments_lexer": "ipython3",
   "version": "3.11.5"
  }
 },
 "nbformat": 4,
 "nbformat_minor": 2
}
