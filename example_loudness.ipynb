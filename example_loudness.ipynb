{
 "cells": [
  {
   "cell_type": "code",
   "execution_count": 12,
   "metadata": {},
   "outputs": [
    {
     "ename": "ImportError",
     "evalue": "attempted relative import with no known parent package",
     "output_type": "error",
     "traceback": [
      "\u001b[1;31m---------------------------------------------------------------------------\u001b[0m",
      "\u001b[1;31mImportError\u001b[0m                               Traceback (most recent call last)",
      "Cell \u001b[1;32mIn[12], line 5\u001b[0m\n\u001b[0;32m      1\u001b[0m \u001b[38;5;28;01mimport\u001b[39;00m \u001b[38;5;21;01msys\u001b[39;00m\n\u001b[0;32m      2\u001b[0m \u001b[38;5;28;01mimport\u001b[39;00m \u001b[38;5;21;01mos\u001b[39;00m\n\u001b[1;32m----> 5\u001b[0m \u001b[38;5;28;01mfrom\u001b[39;00m \u001b[38;5;21;01m.\u001b[39;00m\u001b[38;5;21;01m.\u001b[39;00m acoular \u001b[38;5;28;01mimport\u001b[39;00m \u001b[38;5;21;01mLoudnessStationary\u001b[39;00m\u001b[38;5;241m,\u001b[39m \u001b[38;5;21;01mLoudnessTimevariant\u001b[39;00m\u001b[38;5;241m,\u001b[39m \u001b[38;5;21;01mTimeSamples\u001b[39;00m\u001b[38;5;241m,\u001b[39m \u001b[38;5;21;01mTimeInOut\u001b[39;00m\n",
      "\u001b[1;31mImportError\u001b[0m: attempted relative import with no known parent package"
     ]
    }
   ],
   "source": [
    "import sys\n",
    "import os\n",
    "\n",
    "\n",
    "from acoular import LoudnessStationary, LoudnessTimevariant, TimeSamples, TimeInOut"
   ]
  },
  {
   "cell_type": "code",
   "execution_count": 13,
   "metadata": {},
   "outputs": [
    {
     "data": {
      "text/plain": [
       "51200.0"
      ]
     },
     "execution_count": 13,
     "metadata": {},
     "output_type": "execute_result"
    }
   ],
   "source": [
    "ts = TimeSamples(name=r\"C:\\Users\\HP\\acoular\\examples\\example_data.h5\")\n",
    "tio = TimeInOut(source=ts)\n",
    "ts.sample_freq"
   ]
  },
  {
   "cell_type": "code",
   "execution_count": 9,
   "metadata": {},
   "outputs": [
    {
     "name": "stdout",
     "output_type": "stream",
     "text": [
      "Calculating stationary loudness... depending on the file size, this might take a while\n",
      "signal resampled to 48 kHz\n"
     ]
    },
    {
     "data": {
      "text/plain": [
       "array([54.32, 62.02, 56.94, 64.1 , 61.68, 67.77, 66.17, 77.61, 64.98,\n",
       "       69.54, 60.75, 67.5 , 58.24, 64.5 , 54.82, 60.41, 51.53, 58.4 ,\n",
       "       48.63, 57.22, 47.31, 56.22, 48.1 , 55.99, 47.07, 57.55, 47.78,\n",
       "       56.77, 48.14, 58.23, 50.86, 61.25, 54.75, 62.87, 62.94, 64.29,\n",
       "       72.3 , 65.73, 60.46, 69.5 , 60.72, 58.55, 52.85, 58.84, 51.8 ,\n",
       "       59.05, 51.87, 62.02, 63.07, 69.83, 68.94, 61.12, 56.76, 55.15,\n",
       "       56.42, 57.9 ])"
      ]
     },
     "execution_count": 9,
     "metadata": {},
     "output_type": "execute_result"
    }
   ],
   "source": [
    "ld_st = LoudnessStationary(source=tio)\n",
    "ld_st.overall_loudness"
   ]
  },
  {
   "cell_type": "code",
   "execution_count": 12,
   "metadata": {},
   "outputs": [
    {
     "name": "stdout",
     "output_type": "stream",
     "text": [
      "Calculating timevariant loudness... depending on the file size, this might take a while\n",
      "signal resampled to 48 kHz\n"
     ]
    }
   ],
   "source": [
    "ld_tv = LoudnessTimevariant(source=tio)"
   ]
  },
  {
   "cell_type": "code",
   "execution_count": 14,
   "metadata": {},
   "outputs": [
    {
     "data": {
      "text/plain": [
       "array([[6.11802166e-03, 2.94738185e+00, 7.55260991e+00, ...,\n",
       "        5.38170341e+01, 5.40154841e+01, 5.43165304e+01],\n",
       "       [7.14063896e-03, 3.03238920e+00, 7.95803085e+00, ...,\n",
       "        5.98033091e+01, 5.99524557e+01, 6.03792522e+01],\n",
       "       [6.08560440e-03, 2.93183091e+00, 8.15894105e+00, ...,\n",
       "        5.51776178e+01, 5.51594636e+01, 5.51677536e+01],\n",
       "       ...,\n",
       "       [6.97560562e-03, 5.15469769e+00, 1.23885480e+01, ...,\n",
       "        5.39859831e+01, 5.47461654e+01, 5.56728578e+01],\n",
       "       [7.00212884e-03, 4.28865913e+00, 1.04949945e+01, ...,\n",
       "        5.43556956e+01, 5.51646694e+01, 5.60618265e+01],\n",
       "       [6.65438001e-03, 3.91286675e+00, 9.63363720e+00, ...,\n",
       "        5.63927452e+01, 5.68824544e+01, 5.73206878e+01]])"
      ]
     },
     "execution_count": 14,
     "metadata": {},
     "output_type": "execute_result"
    }
   ],
   "source": [
    "ld_tv.overall_loudness"
   ]
  }
 ],
 "metadata": {
  "kernelspec": {
   "display_name": "acoular",
   "language": "python",
   "name": "python3"
  },
  "language_info": {
   "codemirror_mode": {
    "name": "ipython",
    "version": 3
   },
   "file_extension": ".py",
   "mimetype": "text/x-python",
   "name": "python",
   "nbconvert_exporter": "python",
   "pygments_lexer": "ipython3",
   "version": "3.12.3"
  }
 },
 "nbformat": 4,
 "nbformat_minor": 2
}
