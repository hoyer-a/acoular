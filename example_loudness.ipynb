{
 "cells": [
  {
   "cell_type": "code",
   "execution_count": 1,
   "metadata": {},
   "outputs": [
    {
     "name": "stderr",
     "output_type": "stream",
     "text": [
      "/Users/sebastianlis/Documents/TU/9. Semester/Python : Akkustik/acoular-1/acoular/h5files.py:5: UserWarning: We detected that Numpy is already loaded and uses OpenBLAS. Because this conflicts with Numba parallel execution, we disable parallel execution for now and processing might be slower. To speed up, either import Numpy after Acoular or set environment variable OPENBLAS_NUM_THREADS=1 before start of the program.\n",
      "  from .configuration import config\n"
     ]
    }
   ],
   "source": [
    "from acoular import LoudnessStationary, LoudnessTimevariant, TimeSamples, TimeInOut\n",
    "from mosqito import loudness_zwtv"
   ]
  },
  {
   "cell_type": "markdown",
   "metadata": {},
   "source": [
    "# Example Data"
   ]
  },
  {
   "cell_type": "code",
   "execution_count": 2,
   "metadata": {},
   "outputs": [],
   "source": [
    "# from os import path\n",
    "\n",
    "# from acoular import MicGeom, Mixer, PointSource, WNoiseGenerator, WriteH5\n",
    "# from acoular import __file__ as bpath\n",
    "\n",
    "# sfreq = 48000\n",
    "# duration = 1\n",
    "# nsamples = duration * sfreq\n",
    "# micgeofile = path.join(path.split(bpath)[0], 'xml', 'array_64.xml')\n",
    "# h5savefile = 'three_sources_48kHz.h5'\n",
    "\n",
    "# m = MicGeom(from_file=micgeofile)\n",
    "# n1 = WNoiseGenerator(sample_freq=sfreq, numsamples=nsamples, seed=1)\n",
    "# n2 = WNoiseGenerator(sample_freq=sfreq, numsamples=nsamples, seed=2, rms=0.7)\n",
    "# n3 = WNoiseGenerator(sample_freq=sfreq, numsamples=nsamples, seed=3, rms=0.5)\n",
    "# p1 = PointSource(signal=n1, mics=m, loc=(-0.1, -0.1, 0.3))\n",
    "# p2 = PointSource(signal=n2, mics=m, loc=(0.15, 0, 0.3))\n",
    "# p3 = PointSource(signal=n3, mics=m, loc=(0, 0.1, 0.3))\n",
    "# p = Mixer(source=p1, sources=[p2, p3])\n",
    "# wh5 = WriteH5(source=p, name=h5savefile)\n",
    "# wh5.save()"
   ]
  },
  {
   "cell_type": "markdown",
   "metadata": {},
   "source": [
    "# Loudness Stationary\n"
   ]
  },
  {
   "cell_type": "code",
   "execution_count": 3,
   "metadata": {},
   "outputs": [
    {
     "data": {
      "text/plain": [
       "51200.0"
      ]
     },
     "execution_count": 3,
     "metadata": {},
     "output_type": "execute_result"
    }
   ],
   "source": [
    "ts = TimeSamples(name=r\"C:\\Users\\HP\\acoular\\examples\\example_data.h5\")\n",
    "tio = TimeInOut(source=ts)\n",
    "# ts.sample_freq\n",
    "ts.sample_freq"
   ]
  },
  {
   "cell_type": "code",
   "execution_count": 4,
   "metadata": {},
   "outputs": [
    {
     "name": "stdout",
     "output_type": "stream",
     "text": [
      "source changed called\n",
      "Calculating stationary loudness... depending on the file size, this might take a while\n",
      "signal resampled to 48 kHz\n",
      "init called\n"
     ]
    }
   ],
   "source": [
    "ld_st = LoudnessStationary(source=ts)\n"
   ]
  },
  {
   "cell_type": "code",
   "execution_count": 5,
   "metadata": {},
   "outputs": [
    {
     "name": "stdout",
     "output_type": "stream",
     "text": [
      "source changed called\n",
      "Calculating stationary loudness... depending on the file size, this might take a while\n",
      "source changed called\n",
      "Calculating stationary loudness... depending on the file size, this might take a while\n"
     ]
    }
   ],
   "source": [
    "ld_st.source = tio\n",
    "ld_st.source = ts"
   ]
  },
  {
   "cell_type": "code",
   "execution_count": 6,
   "metadata": {},
   "outputs": [
    {
     "name": "stdout",
     "output_type": "stream",
     "text": [
      "source changed called\n",
      "Calculating timevariant loudness... depending on the file size, this might take a while\n",
      "signal resampled to 48 kHz\n",
      "init called\n"
     ]
    }
   ],
   "source": [
    "ld_tv = LoudnessTimevariant(source=tio)"
   ]
  },
  {
   "cell_type": "markdown",
   "metadata": {},
   "source": [
    "# Beamforming"
   ]
  },
  {
   "cell_type": "code",
   "execution_count": 7,
   "metadata": {},
   "outputs": [],
   "source": [
    "import acoular\n",
    "from os import path"
   ]
  },
  {
   "cell_type": "code",
   "execution_count": 15,
   "metadata": {},
   "outputs": [],
   "source": [
    "micgeofile = path.join(path.split(acoular.__file__)[0], 'xml', 'array_56.xml')\n",
    "datafile = r'examples/example_data.h5'\n",
    "# micgeofile = path.join(path.split(acoular.__file__)[0], 'xml', 'array_64.xml')\n",
    "# datafile = \"three_sources_48kHz.h5\"\n",
    "calibfile = 'example_calib.xml'"
   ]
  },
  {
   "cell_type": "code",
   "execution_count": 16,
   "metadata": {},
   "outputs": [],
   "source": [
    "mg = acoular.MicGeom(from_file=micgeofile)\n",
    "ts = acoular.TimeSamples(name=datafile)\n",
    "\n",
    "rg = acoular.RectGrid(x_min=-0.6, x_max=0.0, y_min=-0.3, y_max=0.3, z=0.68, increment=0.05)\n",
    "env = acoular.Environment(c=346.04)\n",
    "st = acoular.SteeringVector(grid=rg, mics=mg, env=env)"
   ]
  },
  {
   "cell_type": "code",
   "execution_count": 17,
   "metadata": {},
   "outputs": [],
   "source": [
    "bt = acoular.BeamformerTime(source=ts, steer=st)"
   ]
  },
  {
   "cell_type": "code",
   "execution_count": 18,
   "metadata": {},
   "outputs": [
    {
     "name": "stderr",
     "output_type": "stream",
     "text": [
      "Exception occurred in traits notification handler for object: <acoular.loudness.LoudnessStationary object at 0x000001B51243B9B0>, trait: source, old value: None, new value: <acoular.tbeamform.BeamformerTime object at 0x000001B5122490D0>\n",
      "Traceback (most recent call last):\n",
      "  File \"c:\\Users\\HP\\anaconda3\\envs\\acoular\\Lib\\site-packages\\traits\\trait_notifiers.py\", line 342, in __call__\n",
      "    self.handler(*args)\n",
      "  File \"c:\\Users\\HP\\acoular\\acoular\\loudness.py\", line 104, in _source_changed\n",
      "    for res in self.source.result(self._block_size):\n",
      "  File \"c:\\Users\\HP\\acoular\\acoular\\tbeamform.py\", line 275, in result\n",
      "    next(fill_buffer_generator)\n",
      "  File \"c:\\Users\\HP\\acoular\\acoular\\tbeamform.py\", line 227, in _fill_buffer\n",
      "    self.buffer[-ns:, :] = block\n",
      "    ~~~~~~~~~~~^^^^^^^^^\n",
      "ValueError: could not broadcast input array from shape (4096,56) into shape (4096,64)\n"
     ]
    },
    {
     "name": "stdout",
     "output_type": "stream",
     "text": [
      "source changed called\n",
      "init called\n"
     ]
    }
   ],
   "source": [
    "ld_bt = LoudnessStationary(source=bt)"
   ]
  },
  {
   "cell_type": "code",
   "execution_count": 19,
   "metadata": {},
   "outputs": [
    {
     "ename": "AttributeError",
     "evalue": "'float' object has no attribute 'reshape'",
     "output_type": "error",
     "traceback": [
      "\u001b[1;31m---------------------------------------------------------------------------\u001b[0m",
      "\u001b[1;31mAttributeError\u001b[0m                            Traceback (most recent call last)",
      "Cell \u001b[1;32mIn[19], line 2\u001b[0m\n\u001b[0;32m      1\u001b[0m oal \u001b[38;5;241m=\u001b[39m ld_bt\u001b[38;5;241m.\u001b[39moverall_loudness\n\u001b[1;32m----> 2\u001b[0m oal \u001b[38;5;241m=\u001b[39m \u001b[43moal\u001b[49m\u001b[38;5;241;43m.\u001b[39;49m\u001b[43mreshape\u001b[49m(rg\u001b[38;5;241m.\u001b[39mshape)\n",
      "\u001b[1;31mAttributeError\u001b[0m: 'float' object has no attribute 'reshape'"
     ]
    }
   ],
   "source": [
    "oal = ld_bt.overall_loudness\n",
    "oal = oal.reshape(rg.shape)"
   ]
  },
  {
   "cell_type": "markdown",
   "metadata": {},
   "source": [
    "# Plot"
   ]
  },
  {
   "cell_type": "code",
   "execution_count": null,
   "metadata": {},
   "outputs": [],
   "source": [
    "from pylab import colorbar, figure, imshow, show, subplot, tight_layout, title\n",
    "import numpy as np"
   ]
  },
  {
   "cell_type": "code",
   "execution_count": null,
   "metadata": {},
   "outputs": [
    {
     "data": {
      "image/png": "[encoded data removed]",
      "text/plain": [
       "<Figure size 640x480 with 1 Axes>"
      ]
     },
     "metadata": {},
     "output_type": "display_data"
    }
   ],
   "source": [
    "imshow(oal, vmax=np.max(oal), origin='lower', interpolation='nearest', extent=rg.extend())\n",
    "show()"
   ]
  },
  {
   "cell_type": "code",
   "execution_count": 6,
   "metadata": {},
   "outputs": [],
   "source": [
    "ld_tv.show(mg)"
   ]
  },
  {
   "cell_type": "code",
   "execution_count": null,
   "metadata": {},
   "outputs": [],
   "source": []
  }
 ],
 "metadata": {
  "kernelspec": {
   "display_name": "acoular",
   "language": "python",
   "name": "python3"
  },
  "language_info": {
   "codemirror_mode": {
    "name": "ipython",
    "version": 3
   },
   "file_extension": ".py",
   "mimetype": "text/x-python",
   "name": "python",
   "nbconvert_exporter": "python",
   "pygments_lexer": "ipython3",
   "version": "3.12.1"
  }
 },
 "nbformat": 4,
 "nbformat_minor": 2
}
