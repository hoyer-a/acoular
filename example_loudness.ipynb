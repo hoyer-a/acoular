{
 "cells": [
  {
   "cell_type": "code",
   "execution_count": 1,
   "metadata": {},
   "outputs": [
    {
     "name": "stderr",
     "output_type": "stream",
     "text": [
      "OMP: Info #276: omp_set_nested routine deprecated, please use omp_set_max_active_levels instead.\n",
      "/Users/sebastianlis/Documents/TU/9. Semester/Python : Akkustik/acoular-1/acoular/h5files.py:5: UserWarning: We detected that Numpy is already loaded and uses OpenBLAS. Because this conflicts with Numba parallel execution, we disable parallel execution for now and processing might be slower. To speed up, either import Numpy after Acoular or set environment variable OPENBLAS_NUM_THREADS=1 before start of the program.\n",
      "  from .configuration import config\n"
     ]
    }
   ],
   "source": [
    "from acoular import LoudnessStationary, LoudnessTimevariant, TimeSamples, TimeInOut"
   ]
  },
  {
   "cell_type": "code",
   "execution_count": 2,
   "metadata": {},
   "outputs": [
    {
     "data": {
      "text/plain": [
       "51200.0"
      ]
     },
     "execution_count": 2,
     "metadata": {},
     "output_type": "execute_result"
    }
   ],
   "source": [
    "ts = TimeSamples(name=r\"/Users/sebastianlis/Documents/example_data.h5\")\n",
    "tio = TimeInOut(source=ts)\n",
    "ts.sample_freq"
   ]
  },
  {
   "cell_type": "code",
   "execution_count": 3,
   "metadata": {},
   "outputs": [
    {
     "name": "stdout",
     "output_type": "stream",
     "text": [
      "Calculating stationary loudness... depending on the file size, this might take a while\n",
      "signal resampled to 48 kHz\n"
     ]
    },
    {
     "data": {
      "text/plain": [
       "array([54.32, 62.02, 56.94, 64.1 , 61.68, 67.77, 66.17, 77.61, 64.98,\n",
       "       69.54, 60.75, 67.5 , 58.24, 64.5 , 54.82, 60.41, 51.53, 58.4 ,\n",
       "       48.63, 57.22, 47.31, 56.22, 48.1 , 55.99, 47.07, 57.55, 47.78,\n",
       "       56.77, 48.14, 58.23, 50.86, 61.25, 54.75, 62.87, 62.94, 64.29,\n",
       "       72.3 , 65.73, 60.46, 69.5 , 60.72, 58.55, 52.85, 58.84, 51.8 ,\n",
       "       59.05, 51.87, 62.02, 63.07, 69.83, 68.94, 61.12, 56.76, 55.15,\n",
       "       56.42, 57.9 ])"
      ]
     },
     "execution_count": 3,
     "metadata": {},
     "output_type": "execute_result"
    }
   ],
   "source": [
    "ld_st = LoudnessStationary(source=tio)\n",
    "ld_st.overall_loudness"
   ]
  },
  {
   "cell_type": "code",
   "execution_count": 4,
   "metadata": {},
   "outputs": [],
   "source": [
    "ld_tv = LoudnessTimevariant(source=tio)"
   ]
  },
  {
   "cell_type": "code",
   "execution_count": 5,
   "metadata": {},
   "outputs": [
    {
     "data": {
      "text/plain": [
       "array([], dtype=int64)"
      ]
     },
     "execution_count": 5,
     "metadata": {},
     "output_type": "execute_result"
    }
   ],
   "source": [
    "ld_tv.overall_loudness"
   ]
  },
  {
   "cell_type": "code",
   "execution_count": null,
   "metadata": {},
   "outputs": [],
   "source": []
  }
 ],
 "metadata": {
  "kernelspec": {
   "display_name": "acoular",
   "language": "python",
   "name": "python3"
  },
  "language_info": {
   "codemirror_mode": {
    "name": "ipython",
    "version": 3
   },
   "file_extension": ".py",
   "mimetype": "text/x-python",
   "name": "python",
   "nbconvert_exporter": "python",
   "pygments_lexer": "ipython3",
   "version": "3.11.8"
  }
 },
 "nbformat": 4,
 "nbformat_minor": 2
}
