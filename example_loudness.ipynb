{
 "cells": [
  {
   "cell_type": "code",
   "execution_count": 1,
   "metadata": {},
   "outputs": [
    {
     "name": "stderr",
     "output_type": "stream",
     "text": [
      "/Users/sebastianlis/Documents/TU/9. Semester/Python : Akkustik/acoular-1/acoular/h5files.py:5: UserWarning: We detected that Numpy is already loaded and uses OpenBLAS. Because this conflicts with Numba parallel execution, we disable parallel execution for now and processing might be slower. To speed up, either import Numpy after Acoular or set environment variable OPENBLAS_NUM_THREADS=1 before start of the program.\n",
      "  from .configuration import config\n"
     ]
    }
   ],
   "source": [
    "from acoular import LoudnessStationary, LoudnessTimevariant, TimeSamples, TimeInOut, MicGeom\n",
    "from os import path\n",
    "%matplotlib qt5\n",
    "\n"
   ]
  },
  {
   "cell_type": "code",
   "execution_count": 2,
   "metadata": {},
   "outputs": [
    {
     "name": "stdout",
     "output_type": "stream",
     "text": [
      "[[-0.145527 -0.066774 -0.376879 -0.152297 -0.550855 -0.214634 -0.640968\n",
      "  -0.244295 -0.6335   -0.236764 -0.529587 -0.193188 -0.345049 -0.120201\n",
      "  -0.10798  -0.028914  0.145527  0.066774  0.376879  0.152297  0.550855\n",
      "   0.214634  0.640968  0.244295  0.6335    0.236764  0.529587  0.193188\n",
      "   0.345049  0.120201  0.10798   0.028914 -0.029598 -0.02879  -0.348561\n",
      "  -0.082782 -0.463341 -0.088281 -0.306703 -0.042067  0.029598  0.02879\n",
      "   0.348561  0.082782  0.463341  0.088281  0.306703  0.042067 -0.138631\n",
      "  -0.268883 -0.241627 -0.072829  0.138631  0.268883  0.241627  0.072829]\n",
      " [ 0.6335    0.236764  0.529587  0.193188  0.345049  0.120201  0.10798\n",
      "   0.028914 -0.145527 -0.066774 -0.376879 -0.152297 -0.550855 -0.214634\n",
      "  -0.640968 -0.244295 -0.6335   -0.236764 -0.529587 -0.193188 -0.345049\n",
      "  -0.120201 -0.10798  -0.028914  0.145527  0.066774  0.376879  0.152297\n",
      "   0.550855  0.214634  0.640968  0.244295  0.463341  0.088281  0.306703\n",
      "   0.042067 -0.029598 -0.02879  -0.348561 -0.082782 -0.463341 -0.088281\n",
      "  -0.306703 -0.042067  0.029598  0.02879   0.348561  0.082782  0.241627\n",
      "   0.072829 -0.138631 -0.268883 -0.241627 -0.072829  0.138631  0.268883]\n",
      " [ 0.        0.        0.        0.        0.        0.        0.\n",
      "   0.        0.        0.        0.        0.        0.        0.\n",
      "   0.        0.        0.        0.        0.        0.        0.\n",
      "   0.        0.        0.        0.        0.        0.        0.\n",
      "   0.        0.        0.        0.        0.        0.        0.\n",
      "   0.        0.        0.        0.        0.        0.        0.\n",
      "   0.        0.        0.        0.        0.        0.        0.\n",
      "   0.        0.        0.        0.        0.        0.        0.      ]]\n"
     ]
    },
    {
     "data": {
      "text/plain": [
       "51200.0"
      ]
     },
     "execution_count": 2,
     "metadata": {},
     "output_type": "execute_result"
    }
   ],
   "source": [
    "micgeofile = r\"/Users/sebastianlis/Documents/TU/9. Semester/Python : Akkustik/acoular-1/acoular/xml/array_56.xml\"\n",
    "mg = MicGeom(from_file=micgeofile)\n",
    "print(mg.mpos)\n",
    "ts = TimeSamples(name=r\"/Users/sebastianlis/Documents/example_data.h5\")\n",
    "tio = TimeInOut(source=ts)\n",
    "ts.sample_freq"
   ]
  },
  {
   "cell_type": "code",
   "execution_count": 3,
   "metadata": {},
   "outputs": [
    {
     "name": "stdout",
     "output_type": "stream",
     "text": [
      "Calculating stationary loudness... depending on the file size, this might take a while\n",
      "signal resampled to 48 kHz\n"
     ]
    }
   ],
   "source": [
    "ld_st = LoudnessStationary(source=tio)\n",
    "#ld_st.overall_loudness.shape"
   ]
  },
  {
   "cell_type": "code",
   "execution_count": 4,
   "metadata": {},
   "outputs": [
    {
     "name": "stdout",
     "output_type": "stream",
     "text": [
      "Calculating timevariant loudness... depending on the file size, this might take a while\n",
      "signal resampled to 48 kHz\n"
     ]
    }
   ],
   "source": [
    "ld_tv = LoudnessTimevariant(source=tio)"
   ]
  },
  {
   "cell_type": "code",
   "execution_count": 5,
   "metadata": {},
   "outputs": [],
   "source": [
    "#ld_tv.overall_loudness\n",
    "ld_st.show(mg)\n",
    "#from acoular import LoudnessTimevariant\n",
    "#ld_tv.show(mg)\n"
   ]
  },
  {
   "cell_type": "code",
   "execution_count": 6,
   "metadata": {},
   "outputs": [],
   "source": [
    "ld_tv.show(mg)"
   ]
  },
  {
   "cell_type": "code",
   "execution_count": null,
   "metadata": {},
   "outputs": [],
   "source": []
  }
 ],
 "metadata": {
  "kernelspec": {
   "display_name": "acoular",
   "language": "python",
   "name": "python3"
  },
  "language_info": {
   "codemirror_mode": {
    "name": "ipython",
    "version": 3
   },
   "file_extension": ".py",
   "mimetype": "text/x-python",
   "name": "python",
   "nbconvert_exporter": "python",
   "pygments_lexer": "ipython3",
   "version": "3.12.1"
  }
 },
 "nbformat": 4,
 "nbformat_minor": 2
}
