{
 "cells": [
  {
   "cell_type": "markdown",
   "metadata": {},
   "source": [
    "# Markdown style options\n",
    "\n",
    "> Text that will be indented when the Markdown is rendered.\n",
    "\n",
    "- Main bullet point\n",
    "     - Sub bullet point\n",
    "\n",
    "`string`\n",
    "\n",
    "\n",
    "# for titles\n",
    "## for major headings\n",
    "### for subheadings\n",
    "#### for 4th level subheadings\n",
    "\n",
    "\n",
    "Bold text: __string__ or **string**\n",
    "Italic text: _string_ or *string*\n",
    "***\n",
    "<div class=\"alert alert-block alert-info\">\n",
    "<b>Tip:</b> Use blue boxes (alert-info) for tips and notes. \n",
    "If it’s a note, you don’t have to include the word “Note”.\n",
    "</div>\n",
    "<div class=\"alert alert-block alert-warning\">\n",
    "<b>Example:</b> Use yellow boxes for examples that are not \n",
    "inside code cells, or use for mathematical formulas if needed.\n",
    "</div>\n",
    "<div class=\"alert alert-block alert-success\">\n",
    "<b>Up to you:</b> Use green boxes sparingly, and only for some specific \n",
    "purpose that the other boxes can't cover. For example, if you have a lot \n",
    "of related content to link to, maybe you decide to use green boxes for \n",
    "related links from each section of a notebook.\n",
    "</div>\n",
    "<div class=\"alert alert-block alert-danger\">\n",
    "<b>Just don't:</b> In general, avoid the red boxes. These should only be\n",
    "used for actions that might cause data loss or another major issue.\n",
    "</div>"
   ]
  },
  {
   "cell_type": "markdown",
   "metadata": {},
   "source": [
    "# DEMO\n",
    "***\n",
    "## Implementierung einer Klasse zur Berechnung der Lautheit in Acoular\n",
    "\n",
    "Aufgabenstellung BLIBLABLUB\n",
    "\n",
    "Aufbau der Klassen `_Loudness` `LoudnessStationary` `LoudnessTimevariant` `_PlotclassST` `_PlotclassTV` `PointBrowser`\n",
    "\n",
    "Welche Bibliotheken müssen installiert sein\n"
   ]
  },
  {
   "cell_type": "code",
   "execution_count": null,
   "metadata": {},
   "outputs": [],
   "source": [
    "import ###"
   ]
  },
  {
   "cell_type": "markdown",
   "metadata": {},
   "source": [
    "# Loudness Stationary\n",
    "Anwendungsbeispiel eines Stationären Geräusches <br>\n",
    "Zeigen der Plots <br>\n",
    "Erklären der Interaktivität"
   ]
  },
  {
   "cell_type": "code",
   "execution_count": 2,
   "metadata": {},
   "outputs": [],
   "source": [
    "from acoular import LoudnessStationary, LoudnessTimevariant, TimeSamples, TimeInOut, MicGeom\n",
    "from os import path\n",
    "%matplotlib qt5"
   ]
  },
  {
   "cell_type": "code",
   "execution_count": null,
   "metadata": {},
   "outputs": [],
   "source": [
    "micgeofile = r'acoular\\xml\\array_56.xml'\n",
    "mg = MicGeom(from_file=micgeofile)\n",
    "#print(mg.mpos)\n",
    "ts = TimeSamples(name=r'examples\\example_data.h5')\n",
    "tio = TimeInOut(source=ts)"
   ]
  },
  {
   "cell_type": "code",
   "execution_count": null,
   "metadata": {},
   "outputs": [],
   "source": [
    "ld_st = LoudnessStationary(source=tio)\n",
    "ld_st.show(mg)\n"
   ]
  },
  {
   "cell_type": "markdown",
   "metadata": {},
   "source": [
    "# Loudness TimeVariant\n",
    "\n",
    "Anwendungsbeispiel mit zeitvariantem signal (airfoil -> hinführung zu Beamforming Beispiel)<br>\n",
    "Zeigen der Plots <br>\n",
    "Unterschiede im Plot aufzeigen"
   ]
  },
  {
   "cell_type": "code",
   "execution_count": null,
   "metadata": {},
   "outputs": [],
   "source": [
    "from acoular import LoudnessStationary, LoudnessTimevariant, TimeSamples, TimeInOut, MicGeom\n",
    "from os import path\n",
    "%matplotlib qt5\n",
    "\n",
    "micgeofile = r'acoular\\xml\\array_56.xml'\n",
    "mg = MicGeom(from_file=micgeofile)\n",
    "\n",
    "ts = TimeSamples(name=r'examples\\example_data.h5')\n",
    "tio = TimeInOut(source=ts)\n",
    "ld_tv = LoudnessTimevariant(source=tio)\n",
    "\n",
    "ld_tv.show(mg)\n"
   ]
  },
  {
   "cell_type": "markdown",
   "metadata": {},
   "source": [
    "# Anwendung in Acoular Workflow\n",
    "\n",
    "Kurzfassung des \"normalen\" Beamforming Workflows <br>\n",
    "Neuer Workflow mit einbinden der Loudness Stationary (aus anschaulichen Gründen)\n",
    "\n",
    "Mit Masked Timesample Zeigen, dass für Beliebigen Punkt/Channel auch Timevariant ausgegeben werden kann\n",
    "Außerdem: Sample Wahl, "
   ]
  },
  {
   "cell_type": "code",
   "execution_count": 9,
   "metadata": {},
   "outputs": [
    {
     "name": "stdout",
     "output_type": "stream",
     "text": [
      "source changed\n",
      "Calculating stationary loudness... depending on the file size, this might take a while\n",
      "signal resampled to 48 kHz\n"
     ]
    }
   ],
   "source": [
    "import acoular\n",
    "from os import path\n",
    "\n",
    "micgeofile = r'acoular\\xml\\array_56.xml'\n",
    "datafile = r'examples\\example_data.h5'\n",
    "calibfile = r'examples\\example_calib.xml'\n",
    "\n",
    "mg = acoular.MicGeom(from_file=micgeofile)\n",
    "ts = acoular.MaskedTimeSamples(name=datafile)\n",
    "\n",
    "rg = acoular.RectGrid(x_min=-0.6, x_max=0.0, y_min=-0.3, y_max=0.3, z=0.68, increment=0.05)\n",
    "env = acoular.Environment(c=346.04)\n",
    "st = acoular.SteeringVector(grid=rg, mics=mg, env=env)\n",
    "\n",
    "bt = acoular.BeamformerTime(source=ts, steer=st)\n",
    "\n",
    "ld_bt = LoudnessStationary(source=bt)\n",
    "\n",
    "oal = ld_bt.overall_loudness\n",
    "oal = oal.reshape(rg.shape)\n",
    "\n",
    "\n",
    "from pylab import colorbar, figure, imshow, show, subplot, tight_layout, title\n",
    "import numpy as np\n",
    "\n",
    "imshow(oal, vmax=np.max(oal), origin='lower', interpolation='nearest', extent=rg.extend())\n",
    "show()"
   ]
  },
  {
   "cell_type": "code",
   "execution_count": 10,
   "metadata": {},
   "outputs": [],
   "source": [
    "spe= ld_bt.specific_loudness"
   ]
  },
  {
   "cell_type": "code",
   "execution_count": 13,
   "metadata": {},
   "outputs": [],
   "source": [
    "x=[i[1] for i in spe]"
   ]
  },
  {
   "cell_type": "code",
   "execution_count": 15,
   "metadata": {},
   "outputs": [
    {
     "data": {
      "text/plain": [
       "240"
      ]
     },
     "execution_count": 15,
     "metadata": {},
     "output_type": "execute_result"
    }
   ],
   "source": [
    "len(x)"
   ]
  },
  {
   "cell_type": "code",
   "execution_count": 23,
   "metadata": {},
   "outputs": [
    {
     "data": {
      "text/plain": [
       "[<matplotlib.lines.Line2D at 0x14a2c01dc50>]"
      ]
     },
     "execution_count": 23,
     "metadata": {},
     "output_type": "execute_result"
    }
   ],
   "source": [
    "from matplotlib.pyplot import plot\n",
    "plot(range(len(x)),x)"
   ]
  },
  {
   "cell_type": "code",
   "execution_count": 22,
   "metadata": {},
   "outputs": [
    {
     "name": "stdout",
     "output_type": "stream",
     "text": [
      "[2.3362518671813195, 2.3362518671813195, 2.3362518671813195, 2.3362518671813195, 2.3362518671813195, 2.3362518671813195, 2.3362518671813195, 2.3362518671813195, 2.3362518671813195, 6.387781780341031, 6.387781780341031, 6.387781780341031, 6.387781780341031, 6.387781780341031, 6.387781780341031, 6.387781780341031, 6.387781780341031, 6.387781780341031, 6.090632698261457, 5.860632698261457, 5.630632698261457, 5.4006326982614565, 5.209398765449827, 5.209398765449827, 5.209398765449827, 5.209398765449827, 5.209398765449827, 5.209398765449827, 5.274145062423617, 5.274145062423617, 5.274145062423617, 5.274145062423617, 5.274145062423617, 5.274145062423617, 5.274145062423617, 5.084145062423617, 4.8941450624236165, 4.704145062423616, 4.514145062423617, 4.346103070669412, 4.211103070669413, 4.202719893875975, 4.202719893875975, 4.202719893875975, 4.072719893875975, 3.942719893875976, 3.8127198938759768, 3.6827198938759773, 3.5527198938759774, 3.422719893875978, 3.2927198938759785, 3.162719893875979, 3.043070679433521, 2.9330706794335217, 2.8230706794335183, 2.7130706794335184, 2.6030706794335186, 2.534463158795193, 2.534463158795193, 2.534463158795193, 2.534463158795193, 2.534463158795193, 2.534463158795193, 2.534463158795193, 2.534463158795193, 2.534463158795193, 2.4244631587951937, 2.314463158795194, 2.2044631587951944, 2.1035089001927814, 2.0215089001927815, 1.9395089001927819, 1.8575089001927823, 1.7755089001927824, 1.6935089001927828, 1.6115089001927831, 1.5388253389068223, 1.5388253389068223, 1.5388253389068223, 1.4568253389068226, 1.3748253389068228, 1.3092094025880858, 1.26897350982476, 1.26897350982476, 1.26897350982476, 1.26897350982476, 1.26897350982476, 1.26897350982476, 1.26897350982476, 1.26897350982476, 1.26897350982476, 1.26897350982476, 1.2069735098247603, 1.1449735098247606, 1.0829735098247608, 1.0322462916405222, 1.0322462916405222, 1.0322462916405222, 1.0322462916405222, 1.0322462916405222, 1.0322462916405222, 1.0322462916405222, 1.0322462916405222, 1.0322462916405222, 1.0322462916405222, 1.0322462916405222, 0.9702462916405223, 0.9082462916405226, 0.8462462916405228, 0.7957797459500319, 0.7989333287417102, 0.7989333287417102, 0.7989333287417102, 0.7989333287417102, 0.7989333287417102, 0.7989333287417102, 0.7989333287417102, 0.7989333287417102, 0.7989333287417102, 0.7989333287417102, 0.7989333287417102, 0.7989333287417102, 0.7989333287417102, 0.7569333287417104, 0.7149333287417106, 0.6729333287417106, 0.6309333287417108, 0.588933328741711, 0.5691829817041246, 0.5691829817041246, 0.5691829817041246, 0.5691829817041246, 0.5691829817041246, 0.5691829817041246, 0.5691829817041246, 0.5691829817041246, 0.5691829817041246, 0.5691829817041246, 0.5631238396851689, 0.5631238396851689, 0.5631238396851689, 0.5631238396851689, 0.5631238396851689, 0.5631238396851689, 0.5631238396851689, 0.5631238396851689, 0.5631238396851689, 0.5631238396851689, 0.5631238396851689, 0.5631238396851689, 0.5631238396851689, 0.5631238396851689, 0.652780651977622, 0.652780651977622, 0.652780651977622, 0.652780651977622, 0.652780651977622, 0.652780651977622, 0.652780651977622, 0.652780651977622, 0.652780651977622, 0.652780651977622, 0.652780651977622, 0.652780651977622, 0.652780651977622, 0.652780651977622, 0.652780651977622, 0.6107806519776214, 0.6055975775274591, 0.6055975775274591, 0.6055975775274591, 0.6055975775274591, 0.6055975775274591, 0.6055975775274591, 0.6055975775274591, 0.6055975775274591, 0.6055975775274591, 0.6055975775274591, 0.6055975775274591, 0.6055975775274591, 0.6055975775274591, 0.5635975775274585, 0.521597577527458, 0.5078025370023146, 0.5078025370023146, 0.5078025370023146, 0.5078025370023146, 0.5078025370023146, 0.5078025370023146, 0.5078025370023146, 0.5078025370023146, 0.5078025370023146, 0.5078025370023146, 0.465802537002314, 0.4300367542039858, 0.4300367542039858, 0.4300367542039858, 0.4300367542039858, 0.4300367542039858, 0.4300367542039858, 0.4300367542039858, 0.4300367542039858, 0.4300367542039858, 0.4300367542039858, 0.4300367542039858, 0.4300367542039858, 0.4032573474401825, 0.38125734744018214, 0.35925734744018184, 0.33725734744018154, 0.3152573474401812, 0.3123266262288371, 0.3123266262288371, 0.3123266262288371, 0.3123266262288371, 0.3123266262288371, 0.3123266262288371, 0.3123266262288371, 0.2925251202677375, 0.2755251202677373, 0.25852512026773705, 0.2482544442181392, 0.2482544442181392, 0.2482544442181392, 0.2482544442181392, 0.2482544442181392, 0.2482544442181392, 0.23125444421813895, 0.21628228743526612, 0.20528228743526594, 0.1942822874352658, 0.18328228743526565, 0.17228228743526547, 0.16128228743526532, 0.15028228743526517, 0.14220529995292003, 0.13420529995292074, 0.12620529995292062, 0.11820529995292052, 0.1102052999529204]\n"
     ]
    }
   ],
   "source": [
    "print(x)"
   ]
  },
  {
   "cell_type": "code",
   "execution_count": null,
   "metadata": {},
   "outputs": [],
   "source": []
  }
 ],
 "metadata": {
  "kernelspec": {
   "display_name": "acoular",
   "language": "python",
   "name": "python3"
  },
  "language_info": {
   "codemirror_mode": {
    "name": "ipython",
    "version": 3
   },
   "file_extension": ".py",
   "mimetype": "text/x-python",
   "name": "python",
   "nbconvert_exporter": "python",
   "pygments_lexer": "ipython3",
   "version": "3.11.5"
  }
 },
 "nbformat": 4,
 "nbformat_minor": 2
}
