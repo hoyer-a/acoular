{
 "cells": [
  {
   "cell_type": "code",
   "execution_count": 2,
   "metadata": {},
   "outputs": [
    {
     "name": "stderr",
     "output_type": "stream",
     "text": [
      "c:\\Users\\HP\\anaconda3\\envs\\acoular\\Lib\\site-packages\\numpy\\__config__.py:155: UserWarning: Install `pyyaml` for better output\n",
      "  warnings.warn(\"Install `pyyaml` for better output\", stacklevel=1)\n",
      "c:\\Users\\HP\\acoular\\acoular\\h5files.py:5: UserWarning: We detected that Numpy is already loaded and uses OpenBLAS. Because this conflicts with Numba parallel execution, we disable parallel execution for now and processing might be slower. To speed up, either import Numpy after Acoular or set environment variable OPENBLAS_NUM_THREADS=1 before start of the program.\n",
      "  from .configuration import config\n"
     ]
    }
   ],
   "source": [
    "from acoular import LoudnessStationary, LoudnessTimevariant, TimeSamples, TimeInOut\n",
    "from mosqito import loudness_zwtv"
   ]
  },
  {
   "cell_type": "markdown",
   "metadata": {},
   "source": [
    "# Example Data"
   ]
  },
  {
   "cell_type": "code",
   "execution_count": 2,
   "metadata": {},
   "outputs": [],
   "source": [
    "# from os import path\n",
    "\n",
    "# from acoular import MicGeom, Mixer, PointSource, WNoiseGenerator, WriteH5\n",
    "# from acoular import __file__ as bpath\n",
    "\n",
    "# sfreq = 48000\n",
    "# duration = 1\n",
    "# nsamples = duration * sfreq\n",
    "# micgeofile = path.join(path.split(bpath)[0], 'xml', 'array_64.xml')\n",
    "# h5savefile = 'three_sources_48kHz.h5'\n",
    "\n",
    "# m = MicGeom(from_file=micgeofile)\n",
    "# n1 = WNoiseGenerator(sample_freq=sfreq, numsamples=nsamples, seed=1)\n",
    "# n2 = WNoiseGenerator(sample_freq=sfreq, numsamples=nsamples, seed=2, rms=0.7)\n",
    "# n3 = WNoiseGenerator(sample_freq=sfreq, numsamples=nsamples, seed=3, rms=0.5)\n",
    "# p1 = PointSource(signal=n1, mics=m, loc=(-0.1, -0.1, 0.3))\n",
    "# p2 = PointSource(signal=n2, mics=m, loc=(0.15, 0, 0.3))\n",
    "# p3 = PointSource(signal=n3, mics=m, loc=(0, 0.1, 0.3))\n",
    "# p = Mixer(source=p1, sources=[p2, p3])\n",
    "# wh5 = WriteH5(source=p, name=h5savefile)\n",
    "# wh5.save()"
   ]
  },
  {
   "cell_type": "markdown",
   "metadata": {},
   "source": [
    "# Loudness Stationary\n"
   ]
  },
  {
   "cell_type": "code",
   "execution_count": 3,
   "metadata": {},
   "outputs": [
    {
     "data": {
      "text/plain": [
       "51200.0"
      ]
     },
     "execution_count": 3,
     "metadata": {},
     "output_type": "execute_result"
    }
   ],
   "source": [
    "ts = TimeSamples(name=r\"C:\\Users\\HP\\acoular\\examples\\example_data.h5\")\n",
    "tio = TimeInOut(source=ts)\n",
    "# ts.sample_freq\n",
    "ts.sample_freq"
   ]
  },
  {
   "cell_type": "code",
   "execution_count": 4,
   "metadata": {},
   "outputs": [
    {
     "name": "stdout",
     "output_type": "stream",
     "text": [
      "source changed called\n",
      "Calculating stationary loudness... depending on the file size, this might take a while\n",
      "signal resampled to 48 kHz\n",
      "init called\n"
     ]
    }
   ],
   "source": [
    "ld_st = LoudnessStationary(source=ts)\n"
   ]
  },
  {
   "cell_type": "code",
   "execution_count": 8,
   "metadata": {},
   "outputs": [
    {
     "data": {
      "text/plain": [
       "56"
      ]
     },
     "execution_count": 8,
     "metadata": {},
     "output_type": "execute_result"
    }
   ],
   "source": [
    "ld_st.numchannels"
   ]
  },
  {
   "cell_type": "code",
   "execution_count": 6,
   "metadata": {},
   "outputs": [
    {
     "name": "stdout",
     "output_type": "stream",
     "text": [
      "source changed called\n",
      "Calculating timevariant loudness... depending on the file size, this might take a while\n",
      "signal resampled to 48 kHz\n",
      "init called\n"
     ]
    }
   ],
   "source": [
    "ld_tv = LoudnessTimevariant(source=tio)"
   ]
  },
  {
   "cell_type": "markdown",
   "metadata": {},
   "source": [
    "# Beamforming"
   ]
  },
  {
   "cell_type": "code",
   "execution_count": 9,
   "metadata": {},
   "outputs": [],
   "source": [
    "import acoular\n",
    "from os import path"
   ]
  },
  {
   "cell_type": "code",
   "execution_count": 10,
   "metadata": {},
   "outputs": [],
   "source": [
    "micgeofile = path.join(path.split(acoular.__file__)[0], 'xml', 'array_56.xml')\n",
    "datafile = r'examples/example_data.h5'\n",
    "# micgeofile = path.join(path.split(acoular.__file__)[0], 'xml', 'array_64.xml')\n",
    "# datafile = \"three_sources_48kHz.h5\"\n",
    "calibfile = 'example_calib.xml'"
   ]
  },
  {
   "cell_type": "code",
   "execution_count": 11,
   "metadata": {},
   "outputs": [],
   "source": [
    "mg = acoular.MicGeom(from_file=micgeofile)\n",
    "ts = acoular.MaskedTimeSamples(name=datafile)\n",
    "\n",
    "rg = acoular.RectGrid(x_min=-0.6, x_max=0.0, y_min=-0.3, y_max=0.3, z=0.68, increment=0.05)\n",
    "env = acoular.Environment(c=346.04)\n",
    "st = acoular.SteeringVector(grid=rg, mics=mg, env=env)"
   ]
  },
  {
   "cell_type": "code",
   "execution_count": 12,
   "metadata": {},
   "outputs": [],
   "source": [
    "bt = acoular.BeamformerTime(source=ts, steer=st)"
   ]
  },
  {
   "cell_type": "code",
   "execution_count": 13,
   "metadata": {},
   "outputs": [
    {
     "name": "stdout",
     "output_type": "stream",
     "text": [
      "source changed called\n",
      "Calculating stationary loudness... depending on the file size, this might take a while\n",
      "signal resampled to 48 kHz\n",
      "init called\n"
     ]
    }
   ],
   "source": [
    "ld_bt = LoudnessStationary(source=bt)"
   ]
  },
  {
   "cell_type": "code",
   "execution_count": 14,
   "metadata": {},
   "outputs": [],
   "source": [
    "oal = ld_bt.overall_loudness\n",
    "oal = oal.reshape(rg.shape)"
   ]
  },
  {
   "cell_type": "markdown",
   "metadata": {},
   "source": [
    "# Plot"
   ]
  },
  {
   "cell_type": "code",
   "execution_count": 26,
   "metadata": {},
   "outputs": [],
   "source": [
    "from pylab import colorbar, figure, imshow, show, subplot, tight_layout, title\n",
    "import numpy as np"
   ]
  },
  {
   "cell_type": "code",
   "execution_count": 27,
   "metadata": {},
   "outputs": [
    {
     "data": {
      "image/png": "[encoded data removed]",
      "text/plain": [
       "<Figure size 640x480 with 1 Axes>"
      ]
     },
     "metadata": {},
     "output_type": "display_data"
    }
   ],
   "source": [
    "imshow(oal, vmax=np.max(oal), origin='lower', interpolation='nearest', extent=rg.extend())\n",
    "show()"
   ]
  },
  {
   "cell_type": "markdown",
   "metadata": {},
   "source": [
    "<div class=\"alert alert-block alert-info\">\n",
    "<b>Tip:</b> Use blue boxes (alert-info) for tips and notes. \n",
    "If it’s a note, you don’t have to include the word “Note”.\n",
    "</div>"
   ]
  },
  {
   "cell_type": "markdown",
   "metadata": {},
   "source": [
    "<div class=\"alert alert-block alert-warning\">\n",
    "<b>Example:</b> Use yellow boxes for examples that are not \n",
    "inside code cells, or use for mathematical formulas if needed.\n",
    "</div>"
   ]
  },
  {
   "cell_type": "markdown",
   "metadata": {},
   "source": [
    "<div class=\"alert alert-block alert-success\">\n",
    "<b>Up to you:</b> Use green boxes sparingly, and only for some specific \n",
    "purpose that the other boxes can't cover. For example, if you have a lot \n",
    "of related content to link to, maybe you decide to use green boxes for \n",
    "related links from each section of a notebook.\n",
    "</div>"
   ]
  },
  {
   "cell_type": "markdown",
   "metadata": {},
   "source": [
    "<div class=\"alert alert-block alert-danger\">\n",
    "<b>Just don't:</b> In general, avoid the red boxes. These should only be\n",
    "used for actions that might cause data loss or another major issue.\n",
    "</div>"
   ]
  },
  {
   "cell_type": "markdown",
   "metadata": {},
   "source": [
    "***"
   ]
  },
  {
   "cell_type": "markdown",
   "metadata": {},
   "source": [
    "> Text that will be indented when the Markdown is rendered.\n",
    "\n",
    "- Main bullet point\n",
    "     - Sub bullet point\n",
    "\n",
    "`string`\n",
    "\n",
    "\n",
    "# for titles\n",
    "## for major headings\n",
    "### for subheadings\n",
    "#### for 4th level subheadings\n",
    "\n",
    "\n",
    "Bold text: __string__ or **string**\n",
    "Italic text: _string_ or *string*\n"
   ]
  },
  {
   "cell_type": "markdown",
   "metadata": {},
   "source": []
  }
 ],
 "metadata": {
  "kernelspec": {
   "display_name": "acoular",
   "language": "python",
   "name": "python3"
  },
  "language_info": {
   "codemirror_mode": {
    "name": "ipython",
    "version": 3
   },
   "file_extension": ".py",
   "mimetype": "text/x-python",
   "name": "python",
   "nbconvert_exporter": "python",
   "pygments_lexer": "ipython3",
   "version": "3.11.5"
  }
 },
 "nbformat": 4,
 "nbformat_minor": 2
}
