{
 "cells": [
  {
   "cell_type": "code",
   "execution_count": 34,
   "metadata": {},
   "outputs": [],
   "source": [
    "import sys\n",
    "import os\n",
    "\n",
    "local_acoular_path = r'D:\\Python\\Projekt_acoular\\acoular'\n",
    "if local_acoular_path not in sys.path:\n",
    "    sys.path.insert(0, local_acoular_path)\n",
    "\n",
    "# Überprüfen, ob der Pfad korrekt ist\n",
    "#print(f\"Pfad hinzugefügt: {local_acoular_path}\")\n",
    "#print(f\"sys.path: {sys.path}\")"
   ]
  },
  {
   "cell_type": "code",
   "execution_count": 28,
   "metadata": {},
   "outputs": [],
   "source": [
    "#from acoular import LoudnessStationary, LoudnessTimevariant"
   ]
  },
  {
   "cell_type": "markdown",
   "metadata": {},
   "source": [
    "DEMO -- Loudness in acoular"
   ]
  },
  {
   "cell_type": "markdown",
   "metadata": {},
   "source": [
    "Beispiel 1: Beamforming"
   ]
  },
  {
   "cell_type": "code",
   "execution_count": 35,
   "metadata": {},
   "outputs": [],
   "source": [
    "#import and file path\n",
    "import acoular\n",
    "from numpy import zeros\n",
    "from pylab import colorbar, figure, imshow, show, subplot, tight_layout, title\n",
    "\n",
    "micgeofile = r'D:\\Python\\Projekt_acoular\\acoular\\acoular\\xml\\array_56.xml'\n",
    "datafile = r'D:\\Python\\Projekt_acoular\\acoular\\examples\\example_loudness\\example_data.h5'\n",
    "calibfile = r'D:\\Python\\Projekt_acoular\\acoular\\examples\\example_loudness\\example_calib.xml'\n",
    "cfreq = 4000"
   ]
  },
  {
   "cell_type": "code",
   "execution_count": 36,
   "metadata": {},
   "outputs": [],
   "source": [
    "#Prepare Data for Beamforming: get Microfone geometry, get timesaples of measured data, set grid to analyse, set steering vector map\n",
    "mg = acoular.MicGeom(from_file=micgeofile)\n",
    "ts = acoular.MaskedTimeSamples(name=datafile)\n",
    "ts.start = 0\n",
    "ts.stop = 16000\n",
    "rg = acoular.RectGrid(x_min=-0.6, x_max=0.0, y_min=-0.3, y_max=0.3, z=0.68, increment=0.1)\n",
    "env = acoular.Environment(c=346.04)\n",
    "st = acoular.SteeringVector(grid=rg, mics=mg, env=env)\n"
   ]
  },
  {
   "cell_type": "code",
   "execution_count": 37,
   "metadata": {},
   "outputs": [],
   "source": [
    "#execute Beamforming in time domaine\n",
    "bt = acoular.BeamformerTime(source=ts, steer=st)\n",
    "\n",
    "#extract timesample data from beamforming -> nicht nötig, wird in loudness gemacht\n",
    "data = bt.result()"
   ]
  },
  {
   "cell_type": "code",
   "execution_count": 31,
   "metadata": {},
   "outputs": [],
   "source": [
    "ld = acoular.LoudnessStationary(source=bt)"
   ]
  },
  {
   "cell_type": "code",
   "execution_count": 28,
   "metadata": {},
   "outputs": [],
   "source": [
    "file = r'D:\\Python\\Projekt_acoular\\acoular\\examples\\example_loudness\\three_sources.h5'\n",
    "ts = acoular.TimeSamples(name= file)\n",
    "tio = acoular.TimeInOut(source = ts)\n",
    "ld = acoular.LoudnessStationary(source = tio)\n"
   ]
  },
  {
   "cell_type": "code",
   "execution_count": 32,
   "metadata": {},
   "outputs": [
    {
     "data": {
      "text/plain": [
       "array([], dtype=int32)"
      ]
     },
     "execution_count": 32,
     "metadata": {},
     "output_type": "execute_result"
    }
   ],
   "source": [
    "ld.specific_loudness\n"
   ]
  },
  {
   "cell_type": "code",
   "execution_count": 40,
   "metadata": {},
   "outputs": [
    {
     "name": "stdout",
     "output_type": "stream",
     "text": [
      "Timesample 2048\n",
      "Timesample 2048\n",
      "Timesample 2048\n",
      "Timesample 2048\n",
      "Timesample 2048\n",
      "Timesample 2048\n",
      "Timesample 2048\n",
      "Timesample 1664\n",
      "Beamform (2048, 49)\n",
      "Beamform (2048, 49)\n",
      "Beamform (2048, 49)\n",
      "Beamform (2048, 49)\n",
      "Beamform (2048, 49)\n",
      "Beamform (2048, 49)\n",
      "Beamform (2048, 49)\n",
      "Beamform (1443, 49)\n"
     ]
    }
   ],
   "source": [
    "n=0\n",
    "for r in ts.result(2048):\n",
    "    print('Timesample', len(r))\n",
    "    n=n+1\n",
    "n=0\n",
    "for r in bt.result():\n",
    "    print('Beamform',r.shape)\n",
    "    n=n+1"
   ]
  },
  {
   "cell_type": "code",
   "execution_count": 14,
   "metadata": {},
   "outputs": [
    {
     "data": {
      "text/plain": [
       "'1.24.0'"
      ]
     },
     "execution_count": 14,
     "metadata": {},
     "output_type": "execute_result"
    }
   ],
   "source": [
    "import numpy\n",
    "numpy.__version__"
   ]
  },
  {
   "cell_type": "code",
   "execution_count": null,
   "metadata": {},
   "outputs": [],
   "source": []
  },
  {
   "cell_type": "code",
   "execution_count": null,
   "metadata": {},
   "outputs": [],
   "source": [
    "# ===============================================================================\n",
    "# plot result maps for different beamformers in time domain\n",
    "# ===============================================================================\n",
    "i2 = 1  # no of figure\n",
    "i1 = 1  # no of subplot\n",
    "for b in (cacht, cachts, cachct, cachcts):\n",
    "    # first, plot time-dependent result (block-wise)\n",
    "    figure(i2, (7, 7))\n",
    "    i2 += 1\n",
    "    res = zeros(rg.size)  # init accumulator for average\n",
    "    i3 = 1  # no of subplot\n",
    "    for r in b.result(1):  # one single block\n",
    "        subplot(4, 4, i3)\n",
    "        i3 += 1\n",
    "        res += r[0]  # average accum.\n",
    "        map = r[0].reshape(rg.shape)\n",
    "        mx = acoular.L_p(map.max())\n",
    "        imshow(acoular.L_p(map.T), vmax=mx, vmin=mx - 15, origin='lower', interpolation='nearest', extent=rg.extend())\n",
    "        title('%i' % ((i3 - 1) * 1024))\n",
    "    res /= i3 - 1  # average\n",
    "    tight_layout()\n",
    "\n",
    "    # second, plot overall result (average over all blocks)\n",
    "    figure(10)\n",
    "    subplot(4, 4, i1)\n",
    "    i1 += 1\n",
    "    map = res.reshape(rg.shape)\n",
    "    mx = acoular.L_p(map.max())\n",
    "    imshow(acoular.L_p(map.T), vmax=mx, vmin=mx - 15, origin='lower', interpolation='nearest', extent=rg.extend())\n",
    "    colorbar()\n",
    "    title(('BeamformerTime', 'BeamformerTimeSq', 'BeamformerCleant', 'BeamformerCleantSq')[i2 - 2])\n",
    "tight_layout()\n",
    "# only display result on screen if this script is run directly\n",
    "if __name__ == '__main__':\n",
    "    show()"
   ]
  }
 ],
 "metadata": {
  "kernelspec": {
   "display_name": "base",
   "language": "python",
   "name": "python3"
  },
  "language_info": {
   "codemirror_mode": {
    "name": "ipython",
    "version": 3
   },
   "file_extension": ".py",
   "mimetype": "text/x-python",
   "name": "python",
   "nbconvert_exporter": "python",
   "pygments_lexer": "ipython3",
   "version": "3.11.9"
  }
 },
 "nbformat": 4,
 "nbformat_minor": 2
}
